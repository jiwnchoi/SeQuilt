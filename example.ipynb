{
 "cells": [
  {
   "cell_type": "code",
   "execution_count": 290,
   "metadata": {
    "metadata": {}
   },
   "outputs": [
    {
     "name": "stdout",
     "output_type": "stream",
     "text": [
      "The autoreload extension is already loaded. To reload it, use:\n",
      "  %reload_ext autoreload\n",
      "env: ANYWIDGET_HMR=1\n",
      "env: ANYWIDGET_DEV=1\n"
     ]
    }
   ],
   "source": [
    "%load_ext autoreload\n",
    "%autoreload 2\n",
    "%env ANYWIDGET_HMR=1\n",
    "%env ANYWIDGET_DEV=1"
   ]
  },
  {
   "cell_type": "code",
   "execution_count": 291,
   "metadata": {
    "metadata": {}
   },
   "outputs": [],
   "source": [
    "import networkx as nx\n",
    "import numpy as np\n",
    "from datasets import load_dataset\n",
    "from numpy.random import choice\n",
    "\n",
    "from seq import Widget\n",
    "\n",
    "ds = load_dataset(\"ajaykarthick/imdb-movie-reviews\")[\"test\"]"
   ]
  },
  {
   "cell_type": "code",
   "execution_count": 373,
   "metadata": {
    "metadata": {}
   },
   "outputs": [
    {
     "data": {
      "application/vnd.jupyter.widget-view+json": {
       "model_id": "873cf7f29a9e456ab725936c17d7daa6",
       "version_major": 2,
       "version_minor": 1
      },
      "text/plain": [
       "Widget(labels=[{'id': 214, 'token': 'movie'}, {'id': 4, 'token': 'film'}, {'id': 30, 'token': 'one'}, {'id': 6…"
      ]
     },
     "execution_count": 373,
     "metadata": {},
     "output_type": "execute_result"
    }
   ],
   "source": [
    "w = Widget(\n",
    "  sequences=[m[\"review\"] for m in ds if m[\"label\"] == 1],\n",
    "  max_length=16,\n",
    "  n_features=10,\n",
    ")\n",
    "w"
   ]
  },
  {
   "cell_type": "code",
   "execution_count": 374,
   "metadata": {},
   "outputs": [],
   "source": [
    "n = 100"
   ]
  },
  {
   "cell_type": "code",
   "execution_count": 375,
   "metadata": {},
   "outputs": [],
   "source": [
    "raw_sequences = w.sequences"
   ]
  },
  {
   "cell_type": "code",
   "execution_count": 376,
   "metadata": {},
   "outputs": [],
   "source": [
    "w.sequences = raw_sequences[:n].copy()"
   ]
  },
  {
   "cell_type": "code",
   "execution_count": 377,
   "metadata": {},
   "outputs": [
    {
     "name": "stdout",
     "output_type": "stream",
     "text": [
      "2\n",
      "63\n"
     ]
    }
   ],
   "source": [
    "org = np.array(raw_sequences[:n]).copy()\n",
    "new_seq = np.array(raw_sequences[:n]).copy()\n",
    "\n",
    "mask = np.isin(new_seq, np.array([i[\"id\"] for i in w.labels]))\n",
    "new_seq = new_seq * mask\n",
    "\n",
    "ORG = np.array(org)\n",
    "A = np.array(new_seq)\n",
    "n_window = A.shape[1]\n",
    "\n",
    "A_expanded = A[:, np.newaxis, :]\n",
    "dist_matrix = (\n",
    "  (A_expanded == A_expanded.transpose(1, 0, 2)) * (A_expanded != 0)\n",
    ").sum(axis=2)\n",
    "np.fill_diagonal(dist_matrix, 0)\n",
    "\n",
    "G = nx.Graph()\n",
    "for i in range(len(dist_matrix)):\n",
    "  for j in range(i + 1, len(dist_matrix)):\n",
    "    G.add_edge(i, j, weight=n_window - dist_matrix[i, j])\n",
    "\n",
    "\n",
    "answer = nx.algorithms.approximation.christofides(G)\n",
    "# answer = nx.algorithms.approximation.traveling_salesman_problem(G)\n",
    "\n",
    "w.sequences = ORG[np.array(answer)].tolist()\n",
    "\n",
    "\n",
    "def get_scores(matrix):\n",
    "  return (((matrix[:-1, :] - matrix[1:, :]) == 0) * (matrix[:-1, :] != 0)).sum()\n",
    "\n",
    "\n",
    "print(get_scores(ORG))\n",
    "print(get_scores(ORG[np.array(answer)]))"
   ]
  },
  {
   "cell_type": "code",
   "execution_count": 378,
   "metadata": {},
   "outputs": [],
   "source": [
    "unmasked = ORG[np.array(answer)].copy()\n",
    "\n",
    "mask1 = unmasked[:-2, :] != unmasked[1:-1, :]\n",
    "mask2 = unmasked[1:-1, :] != unmasked[2:, :]\n",
    "mask = mask1 & mask2\n",
    "\n",
    "unmasked[1:-1, :][mask] = 0"
   ]
  },
  {
   "cell_type": "code",
   "execution_count": 379,
   "metadata": {},
   "outputs": [],
   "source": [
    "w.sequences = unmasked.tolist()"
   ]
  },
  {
   "cell_type": "code",
   "execution_count": null,
   "metadata": {},
   "outputs": [],
   "source": []
  }
 ],
 "metadata": {
  "kernelspec": {
   "display_name": "Python 3 (ipykernel)",
   "language": "python",
   "name": "python3"
  },
  "language_info": {
   "codemirror_mode": {
    "name": "ipython",
    "version": 3
   },
   "file_extension": ".py",
   "mimetype": "text/x-python",
   "name": "python",
   "nbconvert_exporter": "python",
   "pygments_lexer": "ipython3",
   "version": "3.11.5"
  }
 },
 "nbformat": 4,
 "nbformat_minor": 4
}
