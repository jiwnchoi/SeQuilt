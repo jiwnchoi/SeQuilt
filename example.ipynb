{
 "cells": [
  {
   "cell_type": "code",
   "execution_count": 1,
   "metadata": {
    "metadata": {}
   },
   "outputs": [
    {
     "name": "stdout",
     "output_type": "stream",
     "text": [
      "env: ANYWIDGET_HMR=1\n",
      "env: ANYWIDGET_DEV=1\n"
     ]
    }
   ],
   "source": [
    "%load_ext autoreload\n",
    "%autoreload 2\n",
    "%env ANYWIDGET_HMR=1\n",
    "%env ANYWIDGET_DEV=1"
   ]
  },
  {
   "cell_type": "code",
   "execution_count": 2,
   "metadata": {
    "metadata": {}
   },
   "outputs": [],
   "source": [
    "import numpy as np\n",
    "from datasets import load_dataset\n",
    "\n",
    "from seq import Widget\n",
    "from seq.data.language import get_featured_ids, get_ids, get_tokenizer\n",
    "from seq.utils import (\n",
    "  cluster_sequences,\n",
    "  filter_sequences,\n",
    "  mask_non_featured_ids,\n",
    "  mask_small_clusters,\n",
    "  sort_sequences,\n",
    ")"
   ]
  },
  {
   "cell_type": "code",
   "execution_count": 3,
   "metadata": {},
   "outputs": [],
   "source": [
    "ds = load_dataset(\"ajaykarthick/imdb-movie-reviews\")[\"train\"]"
   ]
  },
  {
   "cell_type": "code",
   "execution_count": 4,
   "metadata": {},
   "outputs": [
    {
     "name": "stderr",
     "output_type": "stream",
     "text": [
      "100%|██████████| 10000/10000 [00:03<00:00, 2527.44it/s]\n"
     ]
    }
   ],
   "source": [
    "tokenizer = get_tokenizer()\n",
    "ids, tokens = get_ids(ds[\"review\"], tokenizer, max_tokens=32)"
   ]
  },
  {
   "cell_type": "code",
   "execution_count": 5,
   "metadata": {},
   "outputs": [],
   "source": [
    "featured_ids = get_featured_ids(ids, tokenizer, n_features=100)\n",
    "labels = [{\"id\": i, \"label\": tokenizer.id_to_token(i)} for i in featured_ids]"
   ]
  },
  {
   "cell_type": "code",
   "execution_count": 13,
   "metadata": {
    "metadata": {}
   },
   "outputs": [
    {
     "data": {
      "application/vnd.jupyter.widget-view+json": {
       "model_id": "86e8aab5006c49faa0c98f9f1cd07c2f",
       "version_major": 2,
       "version_minor": 1
      },
      "text/plain": [
       "Widget(labels=[{'id': 59, 'label': 'movie'}, {'id': 5, 'label': 'film'}, {'id': 30, 'label': 'one'}, {'id': 10…"
      ]
     },
     "execution_count": 13,
     "metadata": {},
     "output_type": "execute_result"
    }
   ],
   "source": [
    "w = Widget(\n",
    "  sequences=ids,\n",
    "  labels=labels[0:10],\n",
    ")\n",
    "init_seq = np.array(w.sequences)"
   ]
  },
  {
   "cell_type": "code",
   "execution_count": 14,
   "metadata": {},
   "outputs": [],
   "source": [
    "w.update_sequences(init_seq)"
   ]
  },
  {
   "cell_type": "code",
   "execution_count": 15,
   "metadata": {},
   "outputs": [],
   "source": [
    "clustered_sequence = cluster_sequences(init_seq)\n",
    "w.update_sequences(clustered_sequence)"
   ]
  },
  {
   "cell_type": "code",
   "execution_count": 16,
   "metadata": {},
   "outputs": [],
   "source": [
    "masked_sequences = mask_small_clusters(clustered_sequence, min_cluster_size=1)\n",
    "w.update_sequences(masked_sequences)"
   ]
  },
  {
   "cell_type": "code",
   "execution_count": 22,
   "metadata": {},
   "outputs": [],
   "source": [
    "filtered_sequences = filter_sequences(masked_sequences, filter_length=3)\n",
    "w.update_sequences(filtered_sequences)"
   ]
  },
  {
   "cell_type": "code",
   "execution_count": null,
   "metadata": {},
   "outputs": [],
   "source": [
    "w"
   ]
  },
  {
   "cell_type": "code",
   "execution_count": 18,
   "metadata": {},
   "outputs": [],
   "source": [
    "# sorted_sequences = sort_sequences(filtered_sequences)\n",
    "# w.update_sequences(sorted_sequences)"
   ]
  }
 ],
 "metadata": {
  "kernelspec": {
   "display_name": "Python 3 (ipykernel)",
   "language": "python",
   "name": "python3"
  },
  "language_info": {
   "codemirror_mode": {
    "name": "ipython",
    "version": 3
   },
   "file_extension": ".py",
   "mimetype": "text/x-python",
   "name": "python",
   "nbconvert_exporter": "python",
   "pygments_lexer": "ipython3",
   "version": "3.12.2"
  }
 },
 "nbformat": 4,
 "nbformat_minor": 4
}
