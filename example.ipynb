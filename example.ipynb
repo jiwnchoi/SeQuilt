{
 "cells": [
  {
   "cell_type": "code",
   "execution_count": 1,
   "metadata": {
    "metadata": {}
   },
   "outputs": [
    {
     "name": "stdout",
     "output_type": "stream",
     "text": [
      "env: ANYWIDGET_HMR=1\n",
      "env: ANYWIDGET_DEV=1\n"
     ]
    }
   ],
   "source": [
    "%load_ext autoreload\n",
    "%autoreload 2\n",
    "%env ANYWIDGET_HMR=1\n",
    "%env ANYWIDGET_DEV=1"
   ]
  },
  {
   "cell_type": "code",
   "execution_count": 2,
   "metadata": {
    "metadata": {}
   },
   "outputs": [
    {
     "name": "stdout",
     "output_type": "stream",
     "text": [
      "True\n"
     ]
    }
   ],
   "source": [
    "from typing import Any\n",
    "\n",
    "import networkx as nx\n",
    "import numpy as np\n",
    "from datasets import load_dataset\n",
    "from scipy.cluster.hierarchy import dendrogram, fcluster, linkage\n",
    "from scipy.spatial.distance import pdist, squareform\n",
    "from sklearn.metrics import DistanceMetric\n",
    "\n",
    "from seq import Widget\n"
   ]
  },
  {
   "cell_type": "code",
   "execution_count": 3,
   "metadata": {},
   "outputs": [],
   "source": [
    "ds = load_dataset(\"ajaykarthick/imdb-movie-reviews\")[\"test\"]"
   ]
  },
  {
   "cell_type": "code",
   "execution_count": 4,
   "metadata": {
    "metadata": {}
   },
   "outputs": [
    {
     "data": {
      "application/vnd.jupyter.widget-view+json": {
       "model_id": "7a928a336708437f93fa972f782cc2f1",
       "version_major": 2,
       "version_minor": 1
      },
      "text/plain": [
       "Widget(labels=[{'id': 58, 'token': 'movie'}, {'id': 4, 'token': 'film'}, {'id': 29, 'token': 'one'}, {'id': 10…"
      ]
     },
     "execution_count": 4,
     "metadata": {},
     "output_type": "execute_result"
    }
   ],
   "source": [
    "w = Widget(\n",
    "  sequences=ds[\"review\"],\n",
    "  max_length=32,\n",
    "  n_features=10,\n",
    ")\n",
    "raw_sequences = w.sequences\n",
    "w"
   ]
  },
  {
   "cell_type": "code",
   "execution_count": 5,
   "metadata": {},
   "outputs": [],
   "source": [
    "n_sequence = 10000\n",
    "w.sequences = raw_sequences[:n_sequence].copy()\n",
    "label_ids = [label[\"id\"] for label in w.labels]"
   ]
  },
  {
   "cell_type": "code",
   "execution_count": 6,
   "metadata": {},
   "outputs": [],
   "source": [
    "def mask_non_featured_sequences(\n",
    "  sequences: list[Any], label_ids: list[int]\n",
    ") -> np.ndarray:\n",
    "  sequences = np.array(sequences)\n",
    "  mask = np.isin(sequences, label_ids)\n",
    "\n",
    "  return sequences * mask\n",
    "\n",
    "\n",
    "labeld_sequences = mask_non_featured_sequences(raw_sequences, label_ids)\n",
    "w.sequences = labeld_sequences.tolist()"
   ]
  },
  {
   "cell_type": "code",
   "execution_count": 7,
   "metadata": {},
   "outputs": [],
   "source": [
    "import numpy as np\n",
    "\n",
    "\n",
    "def distance(x: np.ndarray) -> np.ndarray:\n",
    "  mask = x > 0\n",
    "  and_masks = mask[:, np.newaxis, :] & mask[np.newaxis, :, :]\n",
    "  xor_matrix = x[:, np.newaxis, :] != x[np.newaxis, :, :]\n",
    "  distances = np.sum(xor_matrix & and_masks, axis=2)\n",
    "\n",
    "  return distances / 32\n"
   ]
  },
  {
   "cell_type": "code",
   "execution_count": 8,
   "metadata": {},
   "outputs": [
    {
     "name": "stdout",
     "output_type": "stream",
     "text": [
      "(10000, 10000)\n",
      "[[0.      0.15625 0.15625 ... 0.15625 0.125   0.15625]\n",
      " [0.15625 0.      0.125   ... 0.15625 0.15625 0.1875 ]\n",
      " [0.15625 0.125   0.      ... 0.1875  0.15625 0.1875 ]\n",
      " ...\n",
      " [0.15625 0.15625 0.1875  ... 0.      0.15625 0.1875 ]\n",
      " [0.125   0.15625 0.15625 ... 0.15625 0.      0.125  ]\n",
      " [0.15625 0.1875  0.1875  ... 0.1875  0.125   0.     ]]\n",
      "(49995000,)\n",
      "(10000, 10000)\n",
      "[[0.      0.      0.      ... 0.      0.      0.     ]\n",
      " [0.      0.      0.      ... 0.03125 0.      0.     ]\n",
      " [0.      0.      0.      ... 0.      0.      0.     ]\n",
      " ...\n",
      " [0.      0.03125 0.      ... 0.      0.      0.     ]\n",
      " [0.      0.      0.      ... 0.      0.      0.03125]\n",
      " [0.      0.      0.      ... 0.      0.03125 0.     ]]\n",
      "(49995000,)\n"
     ]
    }
   ],
   "source": [
    "h_distance = DistanceMetric.get_metric(\"hamming\").pairwise(labeld_sequences)\n",
    "print(h_distance.shape)\n",
    "print(h_distance)\n",
    "print(squareform(h_distance).shape)\n",
    "\n",
    "hh_distance = distance(labeld_sequences)\n",
    "print(hh_distance.shape)\n",
    "print(hh_distance)\n",
    "print(squareform(hh_distance).shape)"
   ]
  },
  {
   "cell_type": "code",
   "execution_count": 9,
   "metadata": {},
   "outputs": [],
   "source": [
    "def cluster_sequences(sequences: list[Any]) -> np.ndarray:\n",
    "  sequences = np.array(sequences)\n",
    "  # dist = distance(sequences)\n",
    "  dist = DistanceMetric.get_metric(\"hamming\").pairwise(sequences)\n",
    "  dist = squareform(dist)\n",
    "  linkage_matrix = linkage(dist, method=\"average\")\n",
    "  dendrogram_data = dendrogram(linkage_matrix, no_plot=True)\n",
    "  order = dendrogram_data[\"leaves\"]\n",
    "  order = np.array(order)\n",
    "  return np.array(sequences)[order]\n",
    "\n",
    "\n",
    "clustered_sequences = cluster_sequences(raw_sequences)\n",
    "w.sequences = clustered_sequences.tolist()"
   ]
  },
  {
   "cell_type": "code",
   "execution_count": 10,
   "metadata": {},
   "outputs": [],
   "source": [
    "def mask_sequences(sequences: list[Any], window_length: int) -> list[Any]:\n",
    "  unmasked = np.array(sequences.copy())\n",
    "  # 윈도우 크기만큼의 마스크 생성\n",
    "  masks = []\n",
    "\n",
    "  for i in range(2 * window_length):\n",
    "    left = unmasked[i : -(2 * window_length - i), :]\n",
    "    right = unmasked[i + 1 : -(2 * window_length - i - 1) or None, :]\n",
    "    masks.append(left != right)\n",
    "\n",
    "  mask = np.logical_or.reduce(masks)\n",
    "\n",
    "  # 마스킹 적용\n",
    "  unmasked[window_length:-window_length, :][mask] = 0\n",
    "  return unmasked\n",
    "\n",
    "\n",
    "masked_sequences = mask_sequences(clustered_sequences, window_length=3)\n",
    "w.sequences = masked_sequences.tolist()"
   ]
  },
  {
   "cell_type": "code",
   "execution_count": 11,
   "metadata": {},
   "outputs": [],
   "source": [
    "def filter_sequences(sequences: list[Any], filter_length: int) -> list[Any]:\n",
    "  sequences = np.array(sequences)\n",
    "  mask = np.sum((sequences != 0) & (sequences != -1), axis=1) > filter_length\n",
    "\n",
    "  sequences = sequences[mask]\n",
    "\n",
    "  return sequences\n",
    "\n",
    "\n",
    "filtered_sequences = filter_sequences(masked_sequences, filter_length=1)\n",
    "w.sequences = filtered_sequences.tolist()"
   ]
  },
  {
   "cell_type": "code",
   "execution_count": 12,
   "metadata": {},
   "outputs": [
    {
     "name": "stdout",
     "output_type": "stream",
     "text": [
      "(236, 32)\n"
     ]
    },
    {
     "data": {
      "text/plain": [
       "array([347223, 657244, 374126,   3399,   3399,   1713,   1713,   1713,\n",
       "         1713,    342,      8,   3329,   7501,   7501,   1026,   1026,\n",
       "         1026,   1132,      8,    426,    426,    426,   1454,   1454,\n",
       "         1454,      8,      8,      8,    341,    131,    133,    133,\n",
       "          810,    915,    915,    915,    915,    915,    973,    236,\n",
       "          236,    236,    236,    940,    940,    940,   1046,   1046,\n",
       "          240,    240,    134,    211,    211,    211,    163,    163,\n",
       "          163,    809,    809,    809,    809,    809,    809,    809,\n",
       "          809,    809,    915,    915,    915,   1191,   1294,    116,\n",
       "          116,    116,    116,   2384,   2384,   2418,   2418,   2418,\n",
       "         2418,   2418,   2418,   2418,   2418,   2418,   2418,   2418,\n",
       "         2418,   2418,   2418,   2418,   2418,   2418,   2418,   2418,\n",
       "         2418,   2418,   2418,   2476,   2476,   2476,   1716,   1716,\n",
       "         1716,    116,    116,    116,    396,    116,    169,    169,\n",
       "          169,    211,    211,    211,    211,    211,    211,    211,\n",
       "          134,    134,    211,    133,    133,    133,    133,    133,\n",
       "          131,    131,    131,    116,    116,    116,    116,    116,\n",
       "          116,    116,    116,    116,    116,    116,    116,    116,\n",
       "          116,    116,    377,    377,    377,    116,    116,    622,\n",
       "          622,    164,    164,    164,   1098,   1098,    211,    211,\n",
       "          269,    269,    211,    116,    116,    116,    116,    116,\n",
       "          116,    116,    622,    622,    622,    622,    622,    622,\n",
       "          622,    622,    622,    417,   1508,   1508,   1508,   1508,\n",
       "         1508,   1508,   1508,   1508,   1508,   1508,   1508,   1508,\n",
       "         1508,   1508,   1508,   1508,   1508,   1508,   1508,   1508,\n",
       "          116,    116,    132,    132,    132,    132,    132,    132,\n",
       "          132,    132,    132,    132,    132,    132,    132,    132,\n",
       "          132,    132,    132,    132,    132,    132,    132,    132,\n",
       "          132,    132,    132,    132,    363,     64,    116,    116,\n",
       "          116, 232276, 217779, 246069])"
      ]
     },
     "execution_count": 12,
     "metadata": {},
     "output_type": "execute_result"
    }
   ],
   "source": [
    "# check all zero in the sequence\n",
    "print(filtered_sequences.shape)\n",
    "np.sum(filtered_sequences, axis=1)"
   ]
  },
  {
   "cell_type": "code",
   "execution_count": 13,
   "metadata": {},
   "outputs": [
    {
     "name": "stdout",
     "output_type": "stream",
     "text": [
      "(236, 32)\n",
      "(236, 32)\n"
     ]
    }
   ],
   "source": [
    "def sort_sequences(sequences: list[Any]):\n",
    "  sequences = np.array(sequences)\n",
    "  unique_sequences, count = np.unique(sequences, axis=0, return_counts=True)\n",
    "  dist_matrix = DistanceMetric.get_metric(\"hamming\").pairwise(unique_sequences)\n",
    "\n",
    "  G = nx.Graph()\n",
    "  for i in range(len(dist_matrix)):\n",
    "    for j in range(i + 1, len(dist_matrix)):\n",
    "      G.add_edge(i, j, weight=dist_matrix[i, j])\n",
    "\n",
    "  answer = nx.algorithms.approximation.christofides(G)\n",
    "  # answer = nx.algorithms.approximation.traveling_salesman_problem(G)\n",
    "  sorted_unique_sequences = unique_sequences[np.array(answer[:-1])]\n",
    "  sorted_original_sequences = []\n",
    "\n",
    "  for i, unique_sequence in enumerate(sorted_unique_sequences):\n",
    "    sorted_original_sequences.extend([unique_sequence] * count[i])\n",
    "\n",
    "  return np.array(sorted_original_sequences)\n",
    "\n",
    "\n",
    "print(filtered_sequences.shape)\n",
    "sorted_sequences = sort_sequences(filtered_sequences)\n",
    "print(sorted_sequences.shape)\n",
    "w.sequences = sorted_sequences.tolist()"
   ]
  },
  {
   "cell_type": "code",
   "execution_count": null,
   "metadata": {},
   "outputs": [],
   "source": []
  },
  {
   "cell_type": "code",
   "execution_count": 14,
   "metadata": {},
   "outputs": [
    {
     "name": "stdout",
     "output_type": "stream",
     "text": [
      "[ 1  1  3  7  1  3  1  2  2  3  3  1  2  3  5  1  1  2  3  9  9  3  2  1\n",
      "  2  7  2  1  1  1  2  1  1  2  1  5  1  1  1  1  2  1  4  2  3  2  5  2\n",
      "  1  5  1  1  1  1  2  3  1  3 26  3  3  1  1  1  1  4  2 22  3  1  3 20\n",
      "  1  2  1  1  1]\n",
      "[ 1  1  1  2  3 20  1  2  1  1  4  1  9  1  1  2  1  1  1  3 22  3  2  3\n",
      "  1  1  2  1  3  2  5  7  2  5  1  5  1  1  1  1  1  9  2  1  1  2  3  2\n",
      "  1  3  3  3  1  1 26  2  1  4  2  3  1  3  2  1  3  1  3  2  1  7  1  2\n",
      "  1  2  1  5  3]\n"
     ]
    }
   ],
   "source": [
    "unique_sequences1, count1 = np.unique(\n",
    "  filtered_sequences, axis=0, return_counts=True\n",
    ")\n",
    "unique_sequences2, count2 = np.unique(\n",
    "  sorted_sequences, axis=0, return_counts=True\n",
    ")\n",
    "print(count1)\n",
    "print(count2)"
   ]
  },
  {
   "cell_type": "code",
   "execution_count": null,
   "metadata": {},
   "outputs": [],
   "source": []
  }
 ],
 "metadata": {
  "kernelspec": {
   "display_name": "Python 3 (ipykernel)",
   "language": "python",
   "name": "python3"
  },
  "language_info": {
   "codemirror_mode": {
    "name": "ipython",
    "version": 3
   },
   "file_extension": ".py",
   "mimetype": "text/x-python",
   "name": "python",
   "nbconvert_exporter": "python",
   "pygments_lexer": "ipython3",
   "version": "3.12.2"
  }
 },
 "nbformat": 4,
 "nbformat_minor": 4
}
