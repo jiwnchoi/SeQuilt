{
	"cells": [
		{
			"cell_type": "code",
			"execution_count": 1,
			"metadata": {
				"metadata": {}
			},
			"outputs": [
				{
					"name": "stdout",
					"output_type": "stream",
					"text": [
						"env: ANYWIDGET_HMR=1\n",
						"env: ANYWIDGET_DEV=1\n"
					]
				}
			],
			"source": [
				"%load_ext autoreload\n",
				"%autoreload 2\n",
				"%env ANYWIDGET_HMR=1\n",
				"%env ANYWIDGET_DEV=1"
			]
		},
		{
			"cell_type": "code",
			"execution_count": 2,
			"metadata": {
				"metadata": {}
			},
			"outputs": [
				{
					"data": {
						"application/vnd.jupyter.widget-view+json": {
							"model_id": "06a2cd5b8eec46aa9b282e1538a181e7",
							"version_major": 2,
							"version_minor": 1
						},
						"text/plain": [
							"Widget()"
						]
					},
					"execution_count": 2,
					"metadata": {},
					"output_type": "execute_result"
				}
			],
			"source": [
				"from seq import Widget\n",
				"\n",
				"w = Widget()\n",
				"w"
			]
		},
		{
			"cell_type": "code",
			"execution_count": null,
			"metadata": {},
			"outputs": [],
			"source": []
		}
	],
	"metadata": {
		"kernelspec": {
			"display_name": ".venv",
			"language": "python",
			"name": "python3"
		},
		"language_info": {
			"codemirror_mode": {
				"name": "ipython",
				"version": 3
			},
			"file_extension": ".py",
			"mimetype": "text/x-python",
			"name": "python",
			"nbconvert_exporter": "python",
			"pygments_lexer": "ipython3",
			"version": "3.12.2"
		}
	},
	"nbformat": 4,
	"nbformat_minor": 2
}
