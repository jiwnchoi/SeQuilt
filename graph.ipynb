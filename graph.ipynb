{
 "cells": [
  {
   "cell_type": "code",
   "execution_count": 1,
   "metadata": {},
   "outputs": [
    {
     "name": "stdout",
     "output_type": "stream",
     "text": [
      "env: ANYWIDGET_DEV=1\n"
     ]
    }
   ],
   "source": [
    "%load_ext autoreload\n",
    "%autoreload 2\n",
    "%env ANYWIDGET_DEV=1"
   ]
  },
  {
   "cell_type": "code",
   "execution_count": 2,
   "metadata": {},
   "outputs": [],
   "source": [
    "import numpy as np\n",
    "from sequilt import Sequilt\n",
    "from sequilt.model import EventGraph, EventCanvas, SequletModel, LabelModel"
   ]
  },
  {
   "cell_type": "code",
   "execution_count": 3,
   "metadata": {},
   "outputs": [
    {
     "name": "stderr",
     "output_type": "stream",
     "text": [
      "100%|██████████| 22582/22582 [00:01<00:00, 17228.21it/s]\n"
     ]
    }
   ],
   "source": [
    "from datasets import load_dataset\n",
    "from sequilt.data import get_ids, get_tokenizer\n",
    "\n",
    "ds = load_dataset(\"neuralbioinfo/bacterial_promoters\")\n",
    "tokenizer = get_tokenizer(type=\"dna\", k=1)\n",
    "ids, tokens = get_ids(\n",
    "  ds[\"test_multispecies\"][\"segment\"], tokenizer, max_tokens=32\n",
    ")\n",
    "labels = [\n",
    "  LabelModel(value=value, name=name)\n",
    "  for value, name in tokenizer._id_to_token.items()\n",
    "  if value != 0\n",
    "]\n",
    "labels = [\n",
    "  labels[2], labels[1], labels[0], labels[3]\n",
    "]"
   ]
  },
  {
   "cell_type": "code",
   "execution_count": 4,
   "metadata": {},
   "outputs": [
    {
     "name": "stderr",
     "output_type": "stream",
     "text": [
      "100%|██████████| 10000/10000 [00:05<00:00, 1967.99it/s]\n"
     ]
    }
   ],
   "source": [
    "from datasets import load_dataset\n",
    "from sequilt.data import get_ids, get_tokenizer, get_featured_ids\n",
    "\n",
    "ds = load_dataset(\"ajaykarthick/imdb-movie-reviews\")\n",
    "tokenizer = get_tokenizer(type=\"language\")\n",
    "ids, tokens = get_ids(\n",
    "  ds['test'][\"review\"], tokenizer, max_tokens=32\n",
    ")\n",
    "featured_ids = get_featured_ids(ids, tokenizer, \"count\", n_features=10)\n",
    "feature_mask = np.isin(ids, featured_ids)\n",
    "ids_lang = np.where(feature_mask, ids, 0)\n",
    "labels = [\n",
    "  LabelModel(value=id, name=tokenizer.id_to_token(id))\n",
    "  for id in featured_ids\n",
    "]"
   ]
  },
  {
   "cell_type": "code",
   "execution_count": 8,
   "metadata": {},
   "outputs": [
    {
     "name": "stdout",
     "output_type": "stream",
     "text": [
      "Event(Position=0, Value=59, # Occurences=522) Event(Position=1, Value=112, # Occurences=67) 16\n",
      "Event(Position=0, Value=964, # Occurences=193) Event(Position=1, Value=131, # Occurences=57) 16\n",
      "Event(Position=1, Value=59, # Occurences=545) Event(Position=2, Value=7, # Occurences=82) 16\n",
      "Event(Position=2, Value=964, # Occurences=67) Event(Position=3, Value=131, # Occurences=52) 13\n",
      "Event(Position=1, Value=339, # Occurences=72) Event(Position=2, Value=59, # Occurences=468) 12\n",
      "Event(Position=4, Value=964, # Occurences=56) Event(Position=5, Value=131, # Occurences=63) 10\n",
      "Event(Position=3, Value=964, # Occurences=60) Event(Position=4, Value=131, # Occurences=51) 9\n",
      "Event(Position=1, Value=5, # Occurences=308) Event(Position=2, Value=30, # Occurences=175) 8\n",
      "Event(Position=2, Value=339, # Occurences=37) Event(Position=3, Value=59, # Occurences=334) 8\n",
      "Event(Position=5, Value=964, # Occurences=59) Event(Position=6, Value=131, # Occurences=59) 8\n",
      "Event(Position=0, Value=5, # Occurences=251) Event(Position=1, Value=30, # Occurences=125) 7\n",
      "Event(Position=4, Value=7, # Occurences=58) Event(Position=5, Value=59, # Occurences=227) 7\n",
      "Event(Position=12, Value=7, # Occurences=59) Event(Position=13, Value=59, # Occurences=182) 7\n",
      "Event(Position=6, Value=964, # Occurences=56) Event(Position=7, Value=131, # Occurences=59) 6\n",
      "Event(Position=7, Value=339, # Occurences=31) Event(Position=8, Value=59, # Occurences=207) 6\n",
      "Event(Position=8, Value=339, # Occurences=39) Event(Position=9, Value=59, # Occurences=209) 6\n",
      "Event(Position=14, Value=7, # Occurences=63) Event(Position=15, Value=59, # Occurences=173) 6\n",
      "Event(Position=20, Value=59, # Occurences=162) Event(Position=21, Value=964, # Occurences=49) 6\n",
      "Event(Position=26, Value=964, # Occurences=31) Event(Position=27, Value=131, # Occurences=40) 6\n",
      "Event(Position=2, Value=5, # Occurences=326) Event(Position=3, Value=30, # Occurences=109) 5\n",
      "Event(Position=4, Value=59, # Occurences=268) Event(Position=5, Value=104, # Occurences=62) 5\n",
      "Event(Position=10, Value=964, # Occurences=43) Event(Position=11, Value=131, # Occurences=48) 5\n",
      "Event(Position=17, Value=339, # Occurences=56) Event(Position=18, Value=59, # Occurences=180) 5\n",
      "Event(Position=18, Value=112, # Occurences=48) Event(Position=19, Value=7, # Occurences=59) 5\n",
      "Event(Position=18, Value=7, # Occurences=50) Event(Position=19, Value=5, # Occurences=141) 5\n",
      "Event(Position=20, Value=5, # Occurences=139) Event(Position=21, Value=104, # Occurences=72) 5\n",
      "Event(Position=27, Value=7, # Occurences=43) Event(Position=28, Value=5, # Occurences=149) 5\n",
      "Event(Position=0, Value=112, # Occurences=118) Event(Position=1, Value=104, # Occurences=68) 4\n",
      "Event(Position=2, Value=104, # Occurences=67) Event(Position=3, Value=5, # Occurences=232) 4\n",
      "Event(Position=3, Value=7, # Occurences=63) Event(Position=4, Value=30, # Occurences=118) 4\n",
      "Event(Position=6, Value=339, # Occurences=51) Event(Position=7, Value=59, # Occurences=208) 4\n",
      "Event(Position=7, Value=964, # Occurences=49) Event(Position=8, Value=131, # Occurences=52) 4\n",
      "Event(Position=8, Value=964, # Occurences=54) Event(Position=9, Value=131, # Occurences=44) 4\n",
      "Event(Position=10, Value=59, # Occurences=195) Event(Position=11, Value=104, # Occurences=88) 4\n",
      "Event(Position=13, Value=964, # Occurences=51) Event(Position=14, Value=131, # Occurences=49) 4\n",
      "Event(Position=15, Value=112, # Occurences=46) Event(Position=16, Value=7, # Occurences=43) 4\n",
      "Event(Position=16, Value=964, # Occurences=33) Event(Position=17, Value=59, # Occurences=170) 4\n",
      "Event(Position=17, Value=964, # Occurences=40) Event(Position=18, Value=131, # Occurences=55) 4\n",
      "Event(Position=18, Value=339, # Occurences=43) Event(Position=19, Value=59, # Occurences=167) 4\n",
      "Event(Position=20, Value=339, # Occurences=42) Event(Position=21, Value=59, # Occurences=168) 4\n",
      "Event(Position=21, Value=7, # Occurences=57) Event(Position=22, Value=59, # Occurences=175) 4\n",
      "Event(Position=22, Value=5, # Occurences=123) Event(Position=23, Value=112, # Occurences=42) 4\n",
      "Event(Position=22, Value=339, # Occurences=36) Event(Position=23, Value=59, # Occurences=179) 4\n",
      "Event(Position=23, Value=339, # Occurences=48) Event(Position=24, Value=30, # Occurences=87) 4\n",
      "Event(Position=24, Value=112, # Occurences=43) Event(Position=25, Value=7, # Occurences=44) 4\n",
      "Event(Position=25, Value=59, # Occurences=172) Event(Position=26, Value=112, # Occurences=48) 4\n",
      "Event(Position=26, Value=59, # Occurences=135) Event(Position=27, Value=104, # Occurences=81) 4\n",
      "Event(Position=27, Value=112, # Occurences=46) Event(Position=28, Value=7, # Occurences=61) 4\n",
      "Event(Position=27, Value=59, # Occurences=150) Event(Position=28, Value=104, # Occurences=65) 4\n",
      "Event(Position=28, Value=339, # Occurences=43) Event(Position=29, Value=59, # Occurences=164) 4\n",
      "Event(Position=29, Value=5, # Occurences=127) Event(Position=30, Value=112, # Occurences=39) 4\n",
      "Event(Position=30, Value=964, # Occurences=27) Event(Position=31, Value=131, # Occurences=37) 4\n",
      "Event(Position=30, Value=104, # Occurences=71) Event(Position=31, Value=30, # Occurences=91) 4\n",
      "Event(Position=3, Value=339, # Occurences=37) Event(Position=4, Value=5, # Occurences=228) 3\n",
      "Event(Position=4, Value=112, # Occurences=49) Event(Position=5, Value=7, # Occurences=64) 3\n",
      "Event(Position=5, Value=5, # Occurences=179) Event(Position=6, Value=112, # Occurences=52) 3\n",
      "Event(Position=6, Value=59, # Occurences=184) Event(Position=7, Value=112, # Occurences=42) 3\n",
      "Event(Position=6, Value=30, # Occurences=106) Event(Position=7, Value=7, # Occurences=71) 3\n",
      "Event(Position=7, Value=5, # Occurences=140) Event(Position=8, Value=104, # Occurences=71) 3\n",
      "Event(Position=7, Value=30, # Occurences=113) Event(Position=8, Value=5, # Occurences=160) 3\n",
      "Event(Position=9, Value=964, # Occurences=40) Event(Position=10, Value=131, # Occurences=50) 3\n",
      "Event(Position=9, Value=104, # Occurences=56) Event(Position=10, Value=30, # Occurences=100) 3\n",
      "Event(Position=10, Value=104, # Occurences=61) Event(Position=11, Value=339, # Occurences=43) 3\n",
      "Event(Position=10, Value=7, # Occurences=48) Event(Position=11, Value=304, # Occurences=60) 3\n",
      "Event(Position=10, Value=5, # Occurences=153) Event(Position=11, Value=5, # Occurences=131) 3\n",
      "Event(Position=11, Value=59, # Occurences=185) Event(Position=12, Value=112, # Occurences=35) 3\n",
      "Event(Position=12, Value=964, # Occurences=37) Event(Position=13, Value=30, # Occurences=90) 3\n",
      "Event(Position=12, Value=104, # Occurences=71) Event(Position=13, Value=7, # Occurences=56) 3\n",
      "Event(Position=14, Value=964, # Occurences=35) Event(Position=15, Value=131, # Occurences=44) 3\n",
      "Event(Position=14, Value=304, # Occurences=57) Event(Position=15, Value=7, # Occurences=52) 3\n",
      "Event(Position=16, Value=112, # Occurences=36) Event(Position=17, Value=7, # Occurences=67) 3\n",
      "Event(Position=18, Value=5, # Occurences=156) Event(Position=19, Value=30, # Occurences=97) 3\n",
      "Event(Position=19, Value=112, # Occurences=51) Event(Position=20, Value=7, # Occurences=60) 3\n",
      "Event(Position=20, Value=964, # Occurences=31) Event(Position=21, Value=131, # Occurences=43) 3\n",
      "Event(Position=23, Value=5, # Occurences=110) Event(Position=24, Value=104, # Occurences=66) 3\n",
      "Event(Position=25, Value=964, # Occurences=34) Event(Position=26, Value=131, # Occurences=35) 3\n",
      "Event(Position=28, Value=59, # Occurences=152) Event(Position=29, Value=30, # Occurences=86) 3\n",
      "Event(Position=29, Value=7, # Occurences=37) Event(Position=30, Value=59, # Occurences=122) 3\n",
      "Event(Position=0, Value=104, # Occurences=82) Event(Position=1, Value=964, # Occurences=56) 2\n",
      "Event(Position=0, Value=7, # Occurences=47) Event(Position=1, Value=304, # Occurences=35) 2\n",
      "Event(Position=2, Value=112, # Occurences=44) Event(Position=3, Value=112, # Occurences=44) 2\n",
      "Event(Position=5, Value=112, # Occurences=40) Event(Position=6, Value=7, # Occurences=57) 2\n",
      "Event(Position=8, Value=30, # Occurences=107) Event(Position=9, Value=112, # Occurences=45) 2\n",
      "Event(Position=8, Value=304, # Occurences=53) Event(Position=9, Value=7, # Occurences=45) 2\n",
      "Event(Position=10, Value=112, # Occurences=45) Event(Position=11, Value=112, # Occurences=41) 2\n",
      "Event(Position=11, Value=30, # Occurences=103) Event(Position=12, Value=5, # Occurences=156) 2\n",
      "Event(Position=12, Value=59, # Occurences=184) Event(Position=13, Value=339, # Occurences=34) 2\n",
      "Event(Position=12, Value=131, # Occurences=44) Event(Position=13, Value=131, # Occurences=47) 2\n",
      "Event(Position=13, Value=104, # Occurences=60) Event(Position=14, Value=59, # Occurences=161) 2\n",
      "Event(Position=13, Value=304, # Occurences=52) Event(Position=14, Value=30, # Occurences=97) 2\n",
      "Event(Position=13, Value=5, # Occurences=159) Event(Position=14, Value=5, # Occurences=148) 2\n",
      "Event(Position=15, Value=964, # Occurences=29) Event(Position=16, Value=131, # Occurences=47) 2\n",
      "Event(Position=15, Value=339, # Occurences=45) Event(Position=16, Value=59, # Occurences=173) 2\n",
      "Event(Position=15, Value=5, # Occurences=149) Event(Position=16, Value=5, # Occurences=126) 2\n",
      "Event(Position=16, Value=339, # Occurences=43) Event(Position=17, Value=30, # Occurences=82) 2\n",
      "Event(Position=17, Value=5, # Occurences=126) Event(Position=18, Value=104, # Occurences=66) 2\n",
      "Event(Position=17, Value=304, # Occurences=59) Event(Position=18, Value=30, # Occurences=88) 2\n",
      "Event(Position=19, Value=964, # Occurences=36) Event(Position=20, Value=131, # Occurences=37) 2\n",
      "Event(Position=20, Value=112, # Occurences=51) Event(Position=21, Value=112, # Occurences=36) 2\n",
      "Event(Position=21, Value=339, # Occurences=35) Event(Position=22, Value=112, # Occurences=46) 2\n",
      "Event(Position=21, Value=5, # Occurences=131) Event(Position=22, Value=104, # Occurences=65) 2\n",
      "Event(Position=22, Value=7, # Occurences=57) Event(Position=23, Value=30, # Occurences=86) 2\n",
      "Event(Position=23, Value=104, # Occurences=51) Event(Position=24, Value=339, # Occurences=44) 2\n",
      "Event(Position=23, Value=964, # Occurences=33) Event(Position=24, Value=131, # Occurences=31) 2\n",
      "Event(Position=23, Value=7, # Occurences=51) Event(Position=24, Value=59, # Occurences=139) 2\n",
      "Event(Position=24, Value=5, # Occurences=124) Event(Position=25, Value=304, # Occurences=50) 2\n",
      "Event(Position=24, Value=964, # Occurences=29) Event(Position=25, Value=131, # Occurences=44) 2\n",
      "Event(Position=25, Value=5, # Occurences=110) Event(Position=26, Value=7, # Occurences=53) 2\n",
      "Event(Position=26, Value=5, # Occurences=125) Event(Position=27, Value=30, # Occurences=79) 2\n",
      "Event(Position=26, Value=339, # Occurences=31) Event(Position=27, Value=5, # Occurences=127) 2\n",
      "Event(Position=28, Value=964, # Occurences=25) Event(Position=29, Value=131, # Occurences=38) 2\n",
      "Event(Position=28, Value=112, # Occurences=37) Event(Position=29, Value=112, # Occurences=42) 2\n",
      "Event(Position=29, Value=104, # Occurences=68) Event(Position=30, Value=7, # Occurences=47) 2\n",
      "Event(Position=30, Value=30, # Occurences=88) Event(Position=31, Value=104, # Occurences=64) 2\n",
      "Event(Position=1, Value=7, # Occurences=61) Event(Position=2, Value=131, # Occurences=32) 1\n",
      "Event(Position=4, Value=339, # Occurences=32) Event(Position=5, Value=339, # Occurences=36) 1\n",
      "Event(Position=4, Value=304, # Occurences=42) Event(Position=5, Value=30, # Occurences=108) 1\n",
      "Event(Position=6, Value=5, # Occurences=139) Event(Position=7, Value=104, # Occurences=60) 1\n",
      "Event(Position=7, Value=304, # Occurences=44) Event(Position=8, Value=112, # Occurences=32) 1\n",
      "Event(Position=8, Value=7, # Occurences=56) Event(Position=9, Value=304, # Occurences=44) 1\n",
      "Event(Position=9, Value=5, # Occurences=139) Event(Position=10, Value=339, # Occurences=32) 1\n",
      "Event(Position=9, Value=30, # Occurences=90) Event(Position=10, Value=304, # Occurences=45) 1\n",
      "Event(Position=11, Value=964, # Occurences=31) Event(Position=12, Value=30, # Occurences=91) 1\n",
      "Event(Position=13, Value=112, # Occurences=34) Event(Position=14, Value=112, # Occurences=36) 1\n",
      "Event(Position=14, Value=339, # Occurences=31) Event(Position=15, Value=304, # Occurences=57) 1\n",
      "Event(Position=14, Value=104, # Occurences=69) Event(Position=15, Value=30, # Occurences=91) 1\n",
      "Event(Position=15, Value=104, # Occurences=53) Event(Position=16, Value=304, # Occurences=51) 1\n",
      "Event(Position=16, Value=30, # Occurences=81) Event(Position=17, Value=104, # Occurences=67) 1\n",
      "Event(Position=18, Value=964, # Occurences=33) Event(Position=19, Value=131, # Occurences=35) 1\n",
      "Event(Position=18, Value=304, # Occurences=55) Event(Position=19, Value=104, # Occurences=70) 1\n",
      "Event(Position=20, Value=104, # Occurences=65) Event(Position=21, Value=30, # Occurences=72) 1\n",
      "Event(Position=20, Value=30, # Occurences=90) Event(Position=21, Value=304, # Occurences=59) 1\n",
      "Event(Position=22, Value=964, # Occurences=26) Event(Position=23, Value=131, # Occurences=32) 1\n",
      "Event(Position=22, Value=304, # Occurences=44) Event(Position=23, Value=304, # Occurences=48) 1\n",
      "Event(Position=24, Value=7, # Occurences=42) Event(Position=25, Value=104, # Occurences=60) 1\n",
      "Event(Position=24, Value=304, # Occurences=58) Event(Position=25, Value=112, # Occurences=31) 1\n",
      "Event(Position=26, Value=304, # Occurences=48) Event(Position=27, Value=964, # Occurences=26) 1\n",
      "Event(Position=26, Value=30, # Occurences=100) Event(Position=27, Value=339, # Occurences=36) 1\n",
      "Event(Position=27, Value=304, # Occurences=53) Event(Position=28, Value=304, # Occurences=46) 1\n",
      "Event(Position=28, Value=131, # Occurences=36) Event(Position=29, Value=339, # Occurences=25) 1\n",
      "Event(Position=29, Value=964, # Occurences=28) Event(Position=30, Value=5, # Occurences=109) 1\n",
      "Event(Position=30, Value=304, # Occurences=45) Event(Position=31, Value=59, # Occurences=142) 1\n",
      "Event(Position=30, Value=339, # Occurences=31) Event(Position=31, Value=7, # Occurences=39) 1\n",
      "Event(Position=30, Value=131, # Occurences=35) Event(Position=31, Value=5, # Occurences=114) 1\n"
     ]
    }
   ],
   "source": [
    "G = EventGraph(ids_lang)\n",
    "\n",
    "canvas = EventCanvas(width=ids.shape[1], initial_height=ids.shape[0] * 2)\n",
    "\n",
    "for event1, event2, cooccurence in G.sorted_edges:\n",
    "  sequlet = SequletModel([event1, event2])\n",
    "  print(event1, event2, cooccurence)\n",
    "  canvas.draw_sequlet(sequlet)\n",
    "  G.remove_events_from([event1, event2])"
   ]
  },
  {
   "cell_type": "code",
   "execution_count": 10,
   "metadata": {},
   "outputs": [
    {
     "name": "stdout",
     "output_type": "stream",
     "text": [
      "32\n"
     ]
    }
   ],
   "source": [
    "print(len(G))\n",
    "\n",
    "for node in G.nodes:\n",
    "  sequlet = SequletModel([node])\n",
    "  canvas.draw_sequlet(sequlet)"
   ]
  },
  {
   "cell_type": "code",
   "execution_count": 11,
   "metadata": {},
   "outputs": [
    {
     "data": {
      "application/vnd.jupyter.widget-view+json": {
       "model_id": "572bb4273ff44deebec4cef1b5140547",
       "version_major": 2,
       "version_minor": 1
      },
      "text/plain": [
       "Sequilt(height=800, labels=[{'value': 59, 'name': 'movie'}, {'value': 5, 'name': 'film'}, {'value': 30, 'name'…"
      ]
     },
     "execution_count": 11,
     "metadata": {},
     "output_type": "execute_result"
    }
   ],
   "source": [
    "w = Sequilt(sequlets=canvas.sequlet_rects, labels=labels, width=800, height=800)\n",
    "w"
   ]
  },
  {
   "cell_type": "code",
   "execution_count": null,
   "metadata": {},
   "outputs": [],
   "source": []
  },
  {
   "cell_type": "code",
   "execution_count": null,
   "metadata": {},
   "outputs": [],
   "source": []
  }
 ],
 "metadata": {
  "kernelspec": {
   "display_name": "Python 3 (ipykernel)",
   "language": "python",
   "name": "python3"
  },
  "language_info": {
   "codemirror_mode": {
    "name": "ipython",
    "version": 3
   },
   "file_extension": ".py",
   "mimetype": "text/x-python",
   "name": "python",
   "nbconvert_exporter": "python",
   "pygments_lexer": "ipython3",
   "version": "3.11.5"
  }
 },
 "nbformat": 4,
 "nbformat_minor": 4
}
