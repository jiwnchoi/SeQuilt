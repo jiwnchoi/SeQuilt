{
 "cells": [
  {
   "cell_type": "code",
   "execution_count": 2,
   "metadata": {},
   "outputs": [
    {
     "name": "stdout",
     "output_type": "stream",
     "text": [
      "env: ANYWIDGET_DEV=1\n"
     ]
    }
   ],
   "source": [
    "%load_ext autoreload\n",
    "%autoreload 2\n",
    "%env ANYWIDGET_DEV=1"
   ]
  },
  {
   "cell_type": "code",
   "execution_count": 3,
   "metadata": {},
   "outputs": [],
   "source": [
    "import numpy as np\n",
    "from sequilt import Sequilt\n",
    "from sequilt.model import EventGraph, EventCanvas, SequletModel, LabelModel"
   ]
  },
  {
   "cell_type": "code",
   "execution_count": 67,
   "metadata": {},
   "outputs": [
    {
     "name": "stderr",
     "output_type": "stream",
     "text": [
      "100%|██████████| 22582/22582 [00:00<00:00, 30451.70it/s]\n"
     ]
    }
   ],
   "source": [
    "from datasets import load_dataset\n",
    "from sequilt.data import get_ids, get_tokenizer\n",
    "\n",
    "ds = load_dataset(\"neuralbioinfo/bacterial_promoters\")\n",
    "tokenizer = get_tokenizer(type=\"dna\", k=1)\n",
    "ids, tokens = get_ids(\n",
    "  ds[\"test_multispecies\"][\"segment\"], tokenizer, max_tokens=32\n",
    ")\n",
    "labels = [\n",
    "  LabelModel(value=value, name=name)\n",
    "  for value, name in tokenizer._id_to_token.items()\n",
    "  if value != 0\n",
    "]\n",
    "labels = [\n",
    "  labels[2], labels[1], labels[0], labels[3]\n",
    "]"
   ]
  },
  {
   "cell_type": "code",
   "execution_count": 102,
   "metadata": {},
   "outputs": [
    {
     "name": "stderr",
     "output_type": "stream",
     "text": [
      "100%|██████████| 10000/10000 [00:07<00:00, 1316.03it/s]\n"
     ]
    }
   ],
   "source": [
    "from datasets import load_dataset\n",
    "from sequilt.data import get_ids, get_tokenizer, get_featured_ids\n",
    "\n",
    "ds = load_dataset(\"ajaykarthick/imdb-movie-reviews\")\n",
    "tokenizer = get_tokenizer(type=\"language\")\n",
    "ids, tokens = get_ids(\n",
    "  ds['test'][\"review\"], tokenizer, max_tokens=32\n",
    ")\n",
    "featured_ids = get_featured_ids(ids, tokenizer, \"tf-idf\", n_features=10)\n",
    "labels = [\n",
    "  LabelModel(value=id, name=tokenizer.id_to_token(id))\n",
    "  for id in featured_ids\n",
    "]"
   ]
  },
  {
   "cell_type": "code",
   "execution_count": 103,
   "metadata": {},
   "outputs": [
    {
     "name": "stdout",
     "output_type": "stream",
     "text": [
      "(10000, 32) (10000, 32)\n"
     ]
    }
   ],
   "source": [
    "feature_mask = np.isin(ids, featured_ids)\n",
    "print(ids.shape, feature_mask.shape)"
   ]
  },
  {
   "cell_type": "code",
   "execution_count": 104,
   "metadata": {},
   "outputs": [
    {
     "data": {
      "text/plain": [
       "(10000, 32)"
      ]
     },
     "execution_count": 104,
     "metadata": {},
     "output_type": "execute_result"
    }
   ],
   "source": [
    "ids_lang = np.where(feature_mask, ids, 0)\n",
    "ids_lang.shape"
   ]
  },
  {
   "cell_type": "code",
   "execution_count": 107,
   "metadata": {},
   "outputs": [],
   "source": [
    "G = EventGraph(ids_lang)\n",
    "\n",
    "canvas = EventCanvas(width=ids.shape[1], initial_height=ids.shape[0] * 2)\n",
    "\n",
    "for event1, event2, cooccurence in G.sorted_edges:\n",
    "  sequlet = SequletModel([event1, event2])\n",
    "  canvas.draw_sequlet(sequlet)\n",
    "  G.remove_events_from([event1, event2])"
   ]
  },
  {
   "cell_type": "code",
   "execution_count": 106,
   "metadata": {},
   "outputs": [
    {
     "ename": "KeyboardInterrupt",
     "evalue": "",
     "output_type": "error",
     "traceback": [
      "\u001b[0;31m---------------------------------------------------------------------------\u001b[0m",
      "\u001b[0;31mKeyboardInterrupt\u001b[0m                         Traceback (most recent call last)",
      "Cell \u001b[0;32mIn[106], line 3\u001b[0m\n\u001b[1;32m      1\u001b[0m \u001b[38;5;28;01mfor\u001b[39;00m node \u001b[38;5;129;01min\u001b[39;00m G\u001b[38;5;241m.\u001b[39mnodes:\n\u001b[1;32m      2\u001b[0m   sequlet \u001b[38;5;241m=\u001b[39m SequletModel([node])\n\u001b[0;32m----> 3\u001b[0m   \u001b[43mcanvas\u001b[49m\u001b[38;5;241;43m.\u001b[39;49m\u001b[43mdraw_sequlet\u001b[49m\u001b[43m(\u001b[49m\u001b[43msequlet\u001b[49m\u001b[43m)\u001b[49m\n",
      "File \u001b[0;32m~/git/seq/sequilt/model/EventCanvas.py:82\u001b[0m, in \u001b[0;36mEventCanvas.draw_sequlet\u001b[0;34m(self, sequlet)\u001b[0m\n\u001b[1;32m     80\u001b[0m \u001b[38;5;28;01mdef\u001b[39;00m \u001b[38;5;21mdraw_sequlet\u001b[39m(\u001b[38;5;28mself\u001b[39m, sequlet: \u001b[38;5;124m\"\u001b[39m\u001b[38;5;124mSequletModel\u001b[39m\u001b[38;5;124m\"\u001b[39m) \u001b[38;5;241m-\u001b[39m\u001b[38;5;241m>\u001b[39m \u001b[38;5;28;01mNone\u001b[39;00m:\n\u001b[1;32m     81\u001b[0m   rect_variants \u001b[38;5;241m=\u001b[39m sequlet\u001b[38;5;241m.\u001b[39mrect_variants\n\u001b[0;32m---> 82\u001b[0m   y_offsets \u001b[38;5;241m=\u001b[39m \u001b[43m[\u001b[49m\u001b[38;5;28;43mself\u001b[39;49m\u001b[38;5;241;43m.\u001b[39;49m\u001b[43m__get_drawble_offset\u001b[49m\u001b[43m(\u001b[49m\u001b[43mrects\u001b[49m\u001b[43m)\u001b[49m\u001b[43m \u001b[49m\u001b[38;5;28;43;01mfor\u001b[39;49;00m\u001b[43m \u001b[49m\u001b[43mrects\u001b[49m\u001b[43m \u001b[49m\u001b[38;5;129;43;01min\u001b[39;49;00m\u001b[43m \u001b[49m\u001b[43mrect_variants\u001b[49m\u001b[43m]\u001b[49m\n\u001b[1;32m     84\u001b[0m   idx \u001b[38;5;241m=\u001b[39m \u001b[38;5;28mmin\u001b[39m(\u001b[38;5;28mrange\u001b[39m(\u001b[38;5;28mlen\u001b[39m(y_offsets)), key\u001b[38;5;241m=\u001b[39m\u001b[38;5;28;01mlambda\u001b[39;00m i: y_offsets[i])\n\u001b[1;32m     85\u001b[0m   y_offset \u001b[38;5;241m=\u001b[39m y_offsets[idx]\n",
      "File \u001b[0;32m~/git/seq/sequilt/model/EventCanvas.py:82\u001b[0m, in \u001b[0;36m<listcomp>\u001b[0;34m(.0)\u001b[0m\n\u001b[1;32m     80\u001b[0m \u001b[38;5;28;01mdef\u001b[39;00m \u001b[38;5;21mdraw_sequlet\u001b[39m(\u001b[38;5;28mself\u001b[39m, sequlet: \u001b[38;5;124m\"\u001b[39m\u001b[38;5;124mSequletModel\u001b[39m\u001b[38;5;124m\"\u001b[39m) \u001b[38;5;241m-\u001b[39m\u001b[38;5;241m>\u001b[39m \u001b[38;5;28;01mNone\u001b[39;00m:\n\u001b[1;32m     81\u001b[0m   rect_variants \u001b[38;5;241m=\u001b[39m sequlet\u001b[38;5;241m.\u001b[39mrect_variants\n\u001b[0;32m---> 82\u001b[0m   y_offsets \u001b[38;5;241m=\u001b[39m [\u001b[38;5;28;43mself\u001b[39;49m\u001b[38;5;241;43m.\u001b[39;49m\u001b[43m__get_drawble_offset\u001b[49m\u001b[43m(\u001b[49m\u001b[43mrects\u001b[49m\u001b[43m)\u001b[49m \u001b[38;5;28;01mfor\u001b[39;00m rects \u001b[38;5;129;01min\u001b[39;00m rect_variants]\n\u001b[1;32m     84\u001b[0m   idx \u001b[38;5;241m=\u001b[39m \u001b[38;5;28mmin\u001b[39m(\u001b[38;5;28mrange\u001b[39m(\u001b[38;5;28mlen\u001b[39m(y_offsets)), key\u001b[38;5;241m=\u001b[39m\u001b[38;5;28;01mlambda\u001b[39;00m i: y_offsets[i])\n\u001b[1;32m     85\u001b[0m   y_offset \u001b[38;5;241m=\u001b[39m y_offsets[idx]\n",
      "File \u001b[0;32m~/git/seq/sequilt/model/EventCanvas.py:62\u001b[0m, in \u001b[0;36mEventCanvas.__get_drawble_offset\u001b[0;34m(self, rects, explore_rate)\u001b[0m\n\u001b[1;32m     59\u001b[0m offset \u001b[38;5;241m=\u001b[39m \u001b[38;5;241m0\u001b[39m\n\u001b[1;32m     60\u001b[0m step_size \u001b[38;5;241m=\u001b[39m \u001b[38;5;28mround\u001b[39m(\u001b[38;5;28mmax\u001b[39m(rect\u001b[38;5;241m.\u001b[39mheight \u001b[38;5;28;01mfor\u001b[39;00m rect \u001b[38;5;129;01min\u001b[39;00m rects) \u001b[38;5;241m*\u001b[39m \u001b[38;5;241m0.1\u001b[39m)\n\u001b[0;32m---> 62\u001b[0m \u001b[38;5;28;01mwhile\u001b[39;00m \u001b[38;5;129;01mnot\u001b[39;00m \u001b[38;5;28;43mself\u001b[39;49m\u001b[38;5;241;43m.\u001b[39;49m\u001b[43m__is_canvas_drawable\u001b[49m\u001b[43m(\u001b[49m\u001b[43mrects\u001b[49m\u001b[43m,\u001b[49m\u001b[43m \u001b[49m\u001b[43moffset\u001b[49m\u001b[43m)\u001b[49m:\n\u001b[1;32m     63\u001b[0m   offset \u001b[38;5;241m+\u001b[39m\u001b[38;5;241m=\u001b[39m step_size\n\u001b[1;32m     65\u001b[0m step_size \u001b[38;5;241m=\u001b[39m \u001b[38;5;28mround\u001b[39m(step_size \u001b[38;5;241m*\u001b[39m explore_rate)\n",
      "File \u001b[0;32m~/git/seq/sequilt/model/EventCanvas.py:47\u001b[0m, in \u001b[0;36mEventCanvas.__is_canvas_drawable\u001b[0;34m(self, rects, offset)\u001b[0m\n\u001b[1;32m     44\u001b[0m \u001b[38;5;28;01mif\u001b[39;00m \u001b[38;5;28mmax\u001b[39m(offset \u001b[38;5;241m+\u001b[39m rect\u001b[38;5;241m.\u001b[39mheight \u001b[38;5;241m+\u001b[39m rect\u001b[38;5;241m.\u001b[39my \u001b[38;5;28;01mfor\u001b[39;00m rect \u001b[38;5;129;01min\u001b[39;00m rects) \u001b[38;5;241m>\u001b[39m \u001b[38;5;28mself\u001b[39m\u001b[38;5;241m.\u001b[39m__canvas\u001b[38;5;241m.\u001b[39mshape[\u001b[38;5;241m1\u001b[39m]:\n\u001b[1;32m     45\u001b[0m   \u001b[38;5;28mself\u001b[39m\u001b[38;5;241m.\u001b[39m__canvas \u001b[38;5;241m=\u001b[39m np\u001b[38;5;241m.\u001b[39mpad(\u001b[38;5;28mself\u001b[39m\u001b[38;5;241m.\u001b[39m__canvas, ((\u001b[38;5;241m0\u001b[39m, \u001b[38;5;241m0\u001b[39m), (\u001b[38;5;241m0\u001b[39m, \u001b[38;5;241m10000\u001b[39m)), mode\u001b[38;5;241m=\u001b[39m\u001b[38;5;124m\"\u001b[39m\u001b[38;5;124mconstant\u001b[39m\u001b[38;5;124m\"\u001b[39m)\n\u001b[0;32m---> 47\u001b[0m \u001b[38;5;28;01mreturn\u001b[39;00m \u001b[38;5;28mall\u001b[39m(\n\u001b[1;32m     48\u001b[0m   np\u001b[38;5;241m.\u001b[39mall(\n\u001b[1;32m     49\u001b[0m     \u001b[38;5;28mself\u001b[39m\u001b[38;5;241m.\u001b[39m__canvas[\n\u001b[1;32m     50\u001b[0m       rect\u001b[38;5;241m.\u001b[39mx : rect\u001b[38;5;241m.\u001b[39mx \u001b[38;5;241m+\u001b[39m rect\u001b[38;5;241m.\u001b[39mwidth,\n\u001b[1;32m     51\u001b[0m       offset \u001b[38;5;241m+\u001b[39m rect\u001b[38;5;241m.\u001b[39my : offset \u001b[38;5;241m+\u001b[39m rect\u001b[38;5;241m.\u001b[39my \u001b[38;5;241m+\u001b[39m rect\u001b[38;5;241m.\u001b[39mheight,\n\u001b[1;32m     52\u001b[0m     ]\n\u001b[1;32m     53\u001b[0m     \u001b[38;5;241m==\u001b[39m \u001b[38;5;241m0\u001b[39m\n\u001b[1;32m     54\u001b[0m   )\n\u001b[1;32m     55\u001b[0m   \u001b[38;5;28;01mfor\u001b[39;00m rect \u001b[38;5;129;01min\u001b[39;00m rects\n\u001b[1;32m     56\u001b[0m )\n",
      "File \u001b[0;32m~/git/seq/sequilt/model/EventCanvas.py:48\u001b[0m, in \u001b[0;36m<genexpr>\u001b[0;34m(.0)\u001b[0m\n\u001b[1;32m     44\u001b[0m \u001b[38;5;28;01mif\u001b[39;00m \u001b[38;5;28mmax\u001b[39m(offset \u001b[38;5;241m+\u001b[39m rect\u001b[38;5;241m.\u001b[39mheight \u001b[38;5;241m+\u001b[39m rect\u001b[38;5;241m.\u001b[39my \u001b[38;5;28;01mfor\u001b[39;00m rect \u001b[38;5;129;01min\u001b[39;00m rects) \u001b[38;5;241m>\u001b[39m \u001b[38;5;28mself\u001b[39m\u001b[38;5;241m.\u001b[39m__canvas\u001b[38;5;241m.\u001b[39mshape[\u001b[38;5;241m1\u001b[39m]:\n\u001b[1;32m     45\u001b[0m   \u001b[38;5;28mself\u001b[39m\u001b[38;5;241m.\u001b[39m__canvas \u001b[38;5;241m=\u001b[39m np\u001b[38;5;241m.\u001b[39mpad(\u001b[38;5;28mself\u001b[39m\u001b[38;5;241m.\u001b[39m__canvas, ((\u001b[38;5;241m0\u001b[39m, \u001b[38;5;241m0\u001b[39m), (\u001b[38;5;241m0\u001b[39m, \u001b[38;5;241m10000\u001b[39m)), mode\u001b[38;5;241m=\u001b[39m\u001b[38;5;124m\"\u001b[39m\u001b[38;5;124mconstant\u001b[39m\u001b[38;5;124m\"\u001b[39m)\n\u001b[1;32m     47\u001b[0m \u001b[38;5;28;01mreturn\u001b[39;00m \u001b[38;5;28mall\u001b[39m(\n\u001b[0;32m---> 48\u001b[0m   \u001b[43mnp\u001b[49m\u001b[38;5;241;43m.\u001b[39;49m\u001b[43mall\u001b[49m\u001b[43m(\u001b[49m\n\u001b[1;32m     49\u001b[0m \u001b[43m    \u001b[49m\u001b[38;5;28;43mself\u001b[39;49m\u001b[38;5;241;43m.\u001b[39;49m\u001b[43m__canvas\u001b[49m\u001b[43m[\u001b[49m\n\u001b[1;32m     50\u001b[0m \u001b[43m      \u001b[49m\u001b[43mrect\u001b[49m\u001b[38;5;241;43m.\u001b[39;49m\u001b[43mx\u001b[49m\u001b[43m \u001b[49m\u001b[43m:\u001b[49m\u001b[43m \u001b[49m\u001b[43mrect\u001b[49m\u001b[38;5;241;43m.\u001b[39;49m\u001b[43mx\u001b[49m\u001b[43m \u001b[49m\u001b[38;5;241;43m+\u001b[39;49m\u001b[43m \u001b[49m\u001b[43mrect\u001b[49m\u001b[38;5;241;43m.\u001b[39;49m\u001b[43mwidth\u001b[49m\u001b[43m,\u001b[49m\n\u001b[1;32m     51\u001b[0m \u001b[43m      \u001b[49m\u001b[43moffset\u001b[49m\u001b[43m \u001b[49m\u001b[38;5;241;43m+\u001b[39;49m\u001b[43m \u001b[49m\u001b[43mrect\u001b[49m\u001b[38;5;241;43m.\u001b[39;49m\u001b[43my\u001b[49m\u001b[43m \u001b[49m\u001b[43m:\u001b[49m\u001b[43m \u001b[49m\u001b[43moffset\u001b[49m\u001b[43m \u001b[49m\u001b[38;5;241;43m+\u001b[39;49m\u001b[43m \u001b[49m\u001b[43mrect\u001b[49m\u001b[38;5;241;43m.\u001b[39;49m\u001b[43my\u001b[49m\u001b[43m \u001b[49m\u001b[38;5;241;43m+\u001b[39;49m\u001b[43m \u001b[49m\u001b[43mrect\u001b[49m\u001b[38;5;241;43m.\u001b[39;49m\u001b[43mheight\u001b[49m\u001b[43m,\u001b[49m\n\u001b[1;32m     52\u001b[0m \u001b[43m    \u001b[49m\u001b[43m]\u001b[49m\n\u001b[1;32m     53\u001b[0m \u001b[43m    \u001b[49m\u001b[38;5;241;43m==\u001b[39;49m\u001b[43m \u001b[49m\u001b[38;5;241;43m0\u001b[39;49m\n\u001b[1;32m     54\u001b[0m \u001b[43m  \u001b[49m\u001b[43m)\u001b[49m\n\u001b[1;32m     55\u001b[0m   \u001b[38;5;28;01mfor\u001b[39;00m rect \u001b[38;5;129;01min\u001b[39;00m rects\n\u001b[1;32m     56\u001b[0m )\n",
      "File \u001b[0;32m~/Library/Application Support/hatch/env/virtual/sequilt/2HO-8-qc/sequilt/lib/python3.11/site-packages/numpy/_core/fromnumeric.py:2601\u001b[0m, in \u001b[0;36mall\u001b[0;34m(a, axis, out, keepdims, where)\u001b[0m\n\u001b[1;32m   2513\u001b[0m \u001b[38;5;129m@array_function_dispatch\u001b[39m(_all_dispatcher)\n\u001b[1;32m   2514\u001b[0m \u001b[38;5;28;01mdef\u001b[39;00m \u001b[38;5;21mall\u001b[39m(a, axis\u001b[38;5;241m=\u001b[39m\u001b[38;5;28;01mNone\u001b[39;00m, out\u001b[38;5;241m=\u001b[39m\u001b[38;5;28;01mNone\u001b[39;00m, keepdims\u001b[38;5;241m=\u001b[39mnp\u001b[38;5;241m.\u001b[39m_NoValue, \u001b[38;5;241m*\u001b[39m, where\u001b[38;5;241m=\u001b[39mnp\u001b[38;5;241m.\u001b[39m_NoValue):\n\u001b[1;32m   2515\u001b[0m \u001b[38;5;250m    \u001b[39m\u001b[38;5;124;03m\"\"\"\u001b[39;00m\n\u001b[1;32m   2516\u001b[0m \u001b[38;5;124;03m    Test whether all array elements along a given axis evaluate to True.\u001b[39;00m\n\u001b[1;32m   2517\u001b[0m \n\u001b[0;32m   (...)\u001b[0m\n\u001b[1;32m   2599\u001b[0m \n\u001b[1;32m   2600\u001b[0m \u001b[38;5;124;03m    \"\"\"\u001b[39;00m\n\u001b[0;32m-> 2601\u001b[0m     \u001b[38;5;28;01mreturn\u001b[39;00m \u001b[43m_wrapreduction_any_all\u001b[49m\u001b[43m(\u001b[49m\u001b[43ma\u001b[49m\u001b[43m,\u001b[49m\u001b[43m \u001b[49m\u001b[43mnp\u001b[49m\u001b[38;5;241;43m.\u001b[39;49m\u001b[43mlogical_and\u001b[49m\u001b[43m,\u001b[49m\u001b[43m \u001b[49m\u001b[38;5;124;43m'\u001b[39;49m\u001b[38;5;124;43mall\u001b[39;49m\u001b[38;5;124;43m'\u001b[39;49m\u001b[43m,\u001b[49m\u001b[43m \u001b[49m\u001b[43maxis\u001b[49m\u001b[43m,\u001b[49m\u001b[43m \u001b[49m\u001b[43mout\u001b[49m\u001b[43m,\u001b[49m\n\u001b[1;32m   2602\u001b[0m \u001b[43m                                  \u001b[49m\u001b[43mkeepdims\u001b[49m\u001b[38;5;241;43m=\u001b[39;49m\u001b[43mkeepdims\u001b[49m\u001b[43m,\u001b[49m\u001b[43m \u001b[49m\u001b[43mwhere\u001b[49m\u001b[38;5;241;43m=\u001b[39;49m\u001b[43mwhere\u001b[49m\u001b[43m)\u001b[49m\n",
      "File \u001b[0;32m~/Library/Application Support/hatch/env/virtual/sequilt/2HO-8-qc/sequilt/lib/python3.11/site-packages/numpy/_core/fromnumeric.py:102\u001b[0m, in \u001b[0;36m_wrapreduction_any_all\u001b[0;34m(obj, ufunc, method, axis, out, **kwargs)\u001b[0m\n\u001b[1;32m     99\u001b[0m     \u001b[38;5;28;01melse\u001b[39;00m:\n\u001b[1;32m    100\u001b[0m         \u001b[38;5;28;01mreturn\u001b[39;00m reduction(axis\u001b[38;5;241m=\u001b[39maxis, out\u001b[38;5;241m=\u001b[39mout, \u001b[38;5;241m*\u001b[39m\u001b[38;5;241m*\u001b[39mpasskwargs)\n\u001b[0;32m--> 102\u001b[0m \u001b[38;5;28;01mreturn\u001b[39;00m \u001b[43mufunc\u001b[49m\u001b[38;5;241;43m.\u001b[39;49m\u001b[43mreduce\u001b[49m\u001b[43m(\u001b[49m\u001b[43mobj\u001b[49m\u001b[43m,\u001b[49m\u001b[43m \u001b[49m\u001b[43maxis\u001b[49m\u001b[43m,\u001b[49m\u001b[43m \u001b[49m\u001b[38;5;28;43mbool\u001b[39;49m\u001b[43m,\u001b[49m\u001b[43m \u001b[49m\u001b[43mout\u001b[49m\u001b[43m,\u001b[49m\u001b[43m \u001b[49m\u001b[38;5;241;43m*\u001b[39;49m\u001b[38;5;241;43m*\u001b[39;49m\u001b[43mpasskwargs\u001b[49m\u001b[43m)\u001b[49m\n",
      "\u001b[0;31mKeyboardInterrupt\u001b[0m: "
     ]
    }
   ],
   "source": [
    "for node in G.nodes:\n",
    "  sequlet = SequletModel([node])\n",
    "  canvas.draw_sequlet(sequlet)"
   ]
  },
  {
   "cell_type": "code",
   "execution_count": 108,
   "metadata": {},
   "outputs": [
    {
     "data": {
      "application/vnd.jupyter.widget-view+json": {
       "model_id": "c51efa1c3f8b43cda1ceb49bf239ef01",
       "version_major": 2,
       "version_minor": 1
      },
      "text/plain": [
       "Sequilt(height=800, labels=[{'value': 58, 'name': 'this'}, {'value': 101, 'name': 'movie'}, {'value': 90, 'nam…"
      ]
     },
     "execution_count": 108,
     "metadata": {},
     "output_type": "execute_result"
    }
   ],
   "source": [
    "w = Sequilt(sequlets=canvas.sequlet_rects, labels=labels, width=800, height=800)\n",
    "w"
   ]
  },
  {
   "cell_type": "code",
   "execution_count": null,
   "metadata": {},
   "outputs": [],
   "source": []
  },
  {
   "cell_type": "code",
   "execution_count": null,
   "metadata": {},
   "outputs": [],
   "source": []
  }
 ],
 "metadata": {
  "kernelspec": {
   "display_name": "Python 3 (ipykernel)",
   "language": "python",
   "name": "python3"
  },
  "language_info": {
   "codemirror_mode": {
    "name": "ipython",
    "version": 3
   },
   "file_extension": ".py",
   "mimetype": "text/x-python",
   "name": "python",
   "nbconvert_exporter": "python",
   "pygments_lexer": "ipython3",
   "version": "3.11.5"
  }
 },
 "nbformat": 4,
 "nbformat_minor": 4
}
