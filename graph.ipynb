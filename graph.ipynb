{
 "cells": [
  {
   "cell_type": "code",
   "execution_count": 1,
   "metadata": {},
   "outputs": [],
   "source": [
    "%load_ext autoreload\n",
    "%autoreload 2"
   ]
  },
  {
   "cell_type": "code",
   "execution_count": 2,
   "metadata": {},
   "outputs": [],
   "source": [
    "import numpy as np\n",
    "from sequilt import Sequilt\n",
    "from sequilt.model import EventGraph, Sequlet, LabelModel"
   ]
  },
  {
   "cell_type": "code",
   "execution_count": 3,
   "metadata": {},
   "outputs": [
    {
     "name": "stderr",
     "output_type": "stream",
     "text": [
      "100%|██████████| 22582/22582 [00:01<00:00, 16359.11it/s]\n"
     ]
    }
   ],
   "source": [
    "from datasets import load_dataset\n",
    "from sequilt.data import get_ids, get_tokenizer\n",
    "\n",
    "ds = load_dataset(\"neuralbioinfo/bacterial_promoters\")\n",
    "tokenizer = get_tokenizer(type=\"dna\", k=1)\n",
    "ids, tokens = get_ids(\n",
    "  ds[\"test_multispecies\"][\"segment\"], tokenizer, max_tokens=32\n",
    ")\n",
    "labels = [\n",
    "  LabelModel(value=value, name=name)\n",
    "  for value, name in tokenizer._id_to_token.items()\n",
    "  if value != 0\n",
    "]\n",
    "\n",
    "labels = sorted(labels, key=lambda x: x.name)"
   ]
  },
  {
   "cell_type": "code",
   "execution_count": 4,
   "metadata": {},
   "outputs": [],
   "source": [
    "# Language Dataset\n",
    "# from datasets import load_dataset\n",
    "# from sequilt.data import get_ids, get_tokenizer, get_featured_ids\n",
    "\n",
    "# ds = load_dataset(\"ajaykarthick/imdb-movie-reviews\")\n",
    "# tokenizer = get_tokenizer(type=\"language\")\n",
    "# ids, tokens = get_ids(\n",
    "#   ds['test'][\"review\"], tokenizer, max_tokens=32\n",
    "# )\n",
    "# featured_ids = get_featured_ids(ids, tokenizer, \"tf-idf\", n_features=20)\n",
    "# feature_mask = np.isin(ids, featured_ids)\n",
    "# ids = np.where(feature_mask, ids, 0)\n",
    "# labels = [\n",
    "#   LabelModel(value=id, name=tokenizer.id_to_token(id))\n",
    "#   for id in featured_ids\n",
    "# ]"
   ]
  },
  {
   "cell_type": "code",
   "execution_count": 5,
   "metadata": {},
   "outputs": [
    {
     "data": {
      "application/vnd.jupyter.widget-view+json": {
       "model_id": "2b10033e61f548de95a5060c018c5aa2",
       "version_major": 2,
       "version_minor": 1
      },
      "text/plain": [
       "Sequilt(labels=[{'value': 3, 'name': 'A'}, {'value': 1, 'name': 'C'}, {'value': 2, 'name': 'G'}, {'value': 4, …"
      ]
     },
     "execution_count": 5,
     "metadata": {},
     "output_type": "execute_result"
    }
   ],
   "source": [
    "G = EventGraph(ids)\n",
    "sequilt = Sequilt(sequence_length=ids.shape[1], n_sequences=ids.shape[0], labels=labels)\n",
    "sequilt"
   ]
  },
  {
   "cell_type": "code",
   "execution_count": 6,
   "metadata": {},
   "outputs": [],
   "source": [
    "# Draw edges\n",
    "from time import sleep\n",
    "G = EventGraph(ids)\n",
    "sequilt.sequlets = []\n",
    "\n",
    "for id, (event1, event2, cooccurence) in enumerate(G.sorted_edges):\n",
    "  if cooccurence < 5:\n",
    "    break\n",
    "  sequlet = Sequlet(id, [event1, event2])\n",
    "  sleep(0.15)\n",
    "  sequilt.draw_sequlet(sequlet)\n",
    "  G.remove_events_from([event1, event2])\n",
    "  \n",
    "# Draw nodes\n",
    "for event in G.events:\n",
    "  sequlet = Sequlet(len(sequilt), [event])\n",
    "  sequilt.draw_sequlet(sequlet)\n",
    "  sleep(0.15)\n",
    "  # G.remove_event(event)"
   ]
  },
  {
   "cell_type": "code",
   "execution_count": null,
   "metadata": {},
   "outputs": [],
   "source": []
  }
 ],
 "metadata": {
  "kernelspec": {
   "display_name": "Python 3 (ipykernel)",
   "language": "python",
   "name": "python3"
  },
  "language_info": {
   "codemirror_mode": {
    "name": "ipython",
    "version": 3
   },
   "file_extension": ".py",
   "mimetype": "text/x-python",
   "name": "python",
   "nbconvert_exporter": "python",
   "pygments_lexer": "ipython3",
   "version": "3.11.5"
  }
 },
 "nbformat": 4,
 "nbformat_minor": 4
}
