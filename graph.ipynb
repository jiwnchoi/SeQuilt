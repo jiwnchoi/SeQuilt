{
 "cells": [
  {
   "cell_type": "code",
   "execution_count": 1,
   "metadata": {},
   "outputs": [
    {
     "name": "stdout",
     "output_type": "stream",
     "text": [
      "env: ANYWIDGET_DEV=1\n"
     ]
    }
   ],
   "source": [
    "%load_ext autoreload\n",
    "%autoreload 2\n",
    "%env ANYWIDGET_DEV=1"
   ]
  },
  {
   "cell_type": "code",
   "execution_count": 2,
   "metadata": {},
   "outputs": [],
   "source": [
    "import numpy as np\n",
    "from sequilt import Sequilt\n",
    "from sequilt.model import EventGraph, EventCanvas, SequletModel, LabelModel"
   ]
  },
  {
   "cell_type": "code",
   "execution_count": 3,
   "metadata": {},
   "outputs": [
    {
     "name": "stderr",
     "output_type": "stream",
     "text": [
      "100%|██████████| 22582/22582 [00:00<00:00, 32834.75it/s]\n"
     ]
    }
   ],
   "source": [
    "from datasets import load_dataset\n",
    "from sequilt.data import get_ids, get_tokenizer\n",
    "\n",
    "ds = load_dataset(\"neuralbioinfo/bacterial_promoters\")\n",
    "tokenizer = get_tokenizer(type=\"dna\", k=1)\n",
    "ids, tokens = get_ids(\n",
    "  ds[\"test_multispecies\"][\"segment\"], tokenizer, max_tokens=32\n",
    ")\n",
    "labels = [\n",
    "  LabelModel(value=value, name=name)\n",
    "  for value, name in tokenizer._id_to_token.items()\n",
    "  if value != 0\n",
    "]\n",
    "labels = [\n",
    "  labels[2], labels[1], labels[0], labels[3]\n",
    "]"
   ]
  },
  {
   "cell_type": "code",
   "execution_count": 19,
   "metadata": {},
   "outputs": [
    {
     "name": "stderr",
     "output_type": "stream",
     "text": [
      "100%|██████████| 10000/10000 [00:05<00:00, 1965.90it/s]\n"
     ]
    }
   ],
   "source": [
    "from datasets import load_dataset\n",
    "from sequilt.data import get_ids, get_tokenizer, get_featured_ids\n",
    "\n",
    "ds = load_dataset(\"ajaykarthick/imdb-movie-reviews\")\n",
    "tokenizer = get_tokenizer(type=\"language\")\n",
    "ids, tokens = get_ids(\n",
    "  ds['test'][\"review\"], tokenizer, max_tokens=32\n",
    ")\n",
    "featured_ids = get_featured_ids(ids, tokenizer, \"count\", n_features=10)\n",
    "feature_mask = np.isin(ids, featured_ids)\n",
    "ids_lang = np.where(feature_mask, ids, 0)\n",
    "labels = [\n",
    "  LabelModel(value=id, name=tokenizer.id_to_token(id))\n",
    "  for id in featured_ids\n",
    "]"
   ]
  },
  {
   "cell_type": "code",
   "execution_count": 42,
   "metadata": {},
   "outputs": [],
   "source": [
    "G = EventGraph(ids_lang)\n",
    "\n",
    "canvas = EventCanvas(width=ids.shape[1], initial_height=ids.shape[0] * 2)\n",
    "\n",
    "for event1, event2, cooccurence in G.sorted_edges:\n",
    "  sequlet = SequletModel([event1, event2])\n",
    "  canvas.draw_sequlet(sequlet)\n",
    "  G.remove_events_from([event1, event2])"
   ]
  },
  {
   "cell_type": "code",
   "execution_count": 45,
   "metadata": {},
   "outputs": [
    {
     "name": "stdout",
     "output_type": "stream",
     "text": [
      "32\n"
     ]
    }
   ],
   "source": [
    "print(len(G))\n",
    "\n",
    "for node in G.nodes:\n",
    "  sequlet = SequletModel([node])\n",
    "  canvas.draw_sequlet(sequlet)"
   ]
  },
  {
   "cell_type": "code",
   "execution_count": 46,
   "metadata": {},
   "outputs": [
    {
     "data": {
      "application/vnd.jupyter.widget-view+json": {
       "model_id": "3a83d8cd8aaf42a3af91729a4d6594bf",
       "version_major": 2,
       "version_minor": 1
      },
      "text/plain": [
       "Sequilt(height=800, labels=[{'value': 59, 'name': 'movie'}, {'value': 5, 'name': 'film'}, {'value': 30, 'name'…"
      ]
     },
     "execution_count": 46,
     "metadata": {},
     "output_type": "execute_result"
    }
   ],
   "source": [
    "w = Sequilt(sequlets=canvas.sequlet_rects, labels=labels, width=800, height=800)\n",
    "w"
   ]
  },
  {
   "cell_type": "code",
   "execution_count": null,
   "metadata": {},
   "outputs": [],
   "source": []
  },
  {
   "cell_type": "code",
   "execution_count": null,
   "metadata": {},
   "outputs": [],
   "source": []
  }
 ],
 "metadata": {
  "kernelspec": {
   "display_name": "Python 3 (ipykernel)",
   "language": "python",
   "name": "python3"
  },
  "language_info": {
   "codemirror_mode": {
    "name": "ipython",
    "version": 3
   },
   "file_extension": ".py",
   "mimetype": "text/x-python",
   "name": "python",
   "nbconvert_exporter": "python",
   "pygments_lexer": "ipython3",
   "version": "3.11.5"
  }
 },
 "nbformat": 4,
 "nbformat_minor": 4
}
