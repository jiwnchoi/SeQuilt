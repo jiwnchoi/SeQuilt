{
 "cells": [
  {
   "cell_type": "code",
   "execution_count": 1,
   "metadata": {
    "metadata": {}
   },
   "outputs": [
    {
     "name": "stdout",
     "output_type": "stream",
     "text": [
      "env: ANYWIDGET_HMR=1\n",
      "env: ANYWIDGET_DEV=1\n"
     ]
    }
   ],
   "source": [
    "%load_ext autoreload\n",
    "%autoreload 2\n",
    "%env ANYWIDGET_HMR=1\n",
    "%env ANYWIDGET_DEV=1"
   ]
  },
  {
   "cell_type": "code",
   "execution_count": 4,
   "metadata": {
    "metadata": {}
   },
   "outputs": [],
   "source": [
    "import numpy as np\n",
    "from datasets import load_dataset\n",
    "\n",
    "from seq import Widget\n",
    "from seq.data import get_featured_ids, get_ids, get_tokenizer\n",
    "from seq.utils import cluster_sequences, mask_small_clusters, sort_sequences"
   ]
  },
  {
   "cell_type": "code",
   "execution_count": 5,
   "metadata": {},
   "outputs": [],
   "source": [
    "ds = load_dataset(\"neuralbioinfo/bacterial_promoters\")"
   ]
  },
  {
   "cell_type": "code",
   "execution_count": 6,
   "metadata": {},
   "outputs": [
    {
     "name": "stderr",
     "output_type": "stream",
     "text": [
      "100%|██████████| 22582/22582 [00:00<00:00, 65968.30it/s]\n"
     ]
    }
   ],
   "source": [
    "tokenizer = get_tokenizer(type=\"dna\", k_mer=7)\n",
    "ids, tokens = get_ids(\n",
    "  ds[\"test_multispecies\"][\"segment\"], tokenizer, max_tokens=32\n",
    ")"
   ]
  },
  {
   "cell_type": "code",
   "execution_count": 7,
   "metadata": {},
   "outputs": [],
   "source": [
    "featured_ids = get_featured_ids(ids, tokenizer, n_features=100, method=\"count\")\n",
    "labels = [{\"id\": i, \"label\": tokenizer.id_to_token(i)} for i in featured_ids]"
   ]
  },
  {
   "cell_type": "code",
   "execution_count": 8,
   "metadata": {
    "metadata": {}
   },
   "outputs": [
    {
     "name": "stdout",
     "output_type": "stream",
     "text": [
      "Sequences:  (836, 32)\n",
      "Rects:  742\n"
     ]
    },
    {
     "data": {
      "application/vnd.jupyter.widget-view+json": {
       "model_id": "5f513976233a4ebc8c0a8f4edda0c0a9",
       "version_major": 2,
       "version_minor": 1
      },
      "text/plain": [
       "Widget(height=1600, labels=[{'id': 10081, 'label': 'AAAATTT'}, {'id': 159, 'label': 'CGCCGCG'}, {'id': 438, 'l…"
      ]
     },
     "execution_count": 8,
     "metadata": {},
     "output_type": "execute_result"
    }
   ],
   "source": [
    "w = Widget(\n",
    "  sequences=ids,\n",
    "  labels=labels[0:10],\n",
    "  width=800,\n",
    "  height=1600,\n",
    "  grid=False,\n",
    ")\n",
    "init_seq = w.sequences\n",
    "w"
   ]
  },
  {
   "cell_type": "code",
   "execution_count": 9,
   "metadata": {},
   "outputs": [
    {
     "name": "stdout",
     "output_type": "stream",
     "text": [
      "Sequences:  (836, 32)\n",
      "Rects:  742\n"
     ]
    }
   ],
   "source": [
    "w.update_sequences(init_seq)"
   ]
  },
  {
   "cell_type": "code",
   "execution_count": 64,
   "metadata": {},
   "outputs": [
    {
     "name": "stdout",
     "output_type": "stream",
     "text": [
      "Sequences:  (836, 32)\n",
      "Rects:  133\n"
     ]
    }
   ],
   "source": [
    "clustered_sequence = cluster_sequences(init_seq)\n",
    "w.update_sequences(clustered_sequence)"
   ]
  },
  {
   "cell_type": "code",
   "execution_count": 67,
   "metadata": {},
   "outputs": [
    {
     "name": "stdout",
     "output_type": "stream",
     "text": [
      "Sequences:  (298, 32)\n",
      "Rects:  21\n"
     ]
    },
    {
     "data": {
      "text/plain": [
       "array([[    0,     0,     0,     0, 10081,     0,     0,     0,     0,\n",
       "            0,     0,     0,     0,     0,     0,     0,     0,     0,\n",
       "            0,     0,     0,     0,     0,     0,     0,     0,     0,\n",
       "            0,     0,     0,     0,     0]])"
      ]
     },
     "execution_count": 67,
     "metadata": {},
     "output_type": "execute_result"
    }
   ],
   "source": [
    "masked_sequences = mask_small_clusters(clustered_sequence, min_cluster_size=10)\n",
    "w.grid = True\n",
    "w.update_sequences(masked_sequences)\n",
    "w.height = 1600\n",
    "count = np.unique(w.sequences, axis=0, return_counts=True)[1]\n",
    "# unique count가 1인 행 반환\n",
    "singletons = w.sequences[np.where(count == 1)]\n",
    "singletons"
   ]
  },
  {
   "cell_type": "code",
   "execution_count": 59,
   "metadata": {},
   "outputs": [
    {
     "name": "stdout",
     "output_type": "stream",
     "text": [
      "[0, 12, 11, 13, 10, 14, 9, 15, 8, 16, 7, 17, 6, 18, 4, 5, 20, 19, 3, 21, 2, 22, 1]\n",
      "Sequences:  (298, 32)\n",
      "Rects:  21\n"
     ]
    }
   ],
   "source": [
    "sorted_sequences = sort_sequences(w.sequences)\n",
    "w.update_sequences(sorted_sequences)"
   ]
  },
  {
   "cell_type": "code",
   "execution_count": 38,
   "metadata": {},
   "outputs": [
    {
     "name": "stdout",
     "output_type": "stream",
     "text": [
      "고유한 행:\n",
      "(array([[1, 2],\n",
      "       [3, 4],\n",
      "       [5, 6]]), array([2, 1, 1]))\n"
     ]
    }
   ],
   "source": [
    "import numpy as np\n",
    "\n",
    "# 2차원 행렬 생성\n",
    "matrix = np.array([[1, 2], [3, 4], [1, 2], [5, 6]])\n",
    "\n",
    "# 고유한 행 추출\n",
    "unique_rows = np.unique(matrix, axis=0, return_counts=True)\n",
    "\n",
    "print(\"고유한 행:\")\n",
    "print(unique_rows)\n"
   ]
  },
  {
   "cell_type": "code",
   "execution_count": null,
   "metadata": {},
   "outputs": [],
   "source": []
  }
 ],
 "metadata": {
  "kernelspec": {
   "display_name": "Python 3 (ipykernel)",
   "language": "python",
   "name": "python3"
  },
  "language_info": {
   "codemirror_mode": {
    "name": "ipython",
    "version": 3
   },
   "file_extension": ".py",
   "mimetype": "text/x-python",
   "name": "python",
   "nbconvert_exporter": "python",
   "pygments_lexer": "ipython3",
   "version": "3.12.2"
  }
 },
 "nbformat": 4,
 "nbformat_minor": 4
}
