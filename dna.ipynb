{
 "cells": [
  {
   "cell_type": "code",
   "execution_count": 2,
   "metadata": {
    "metadata": {}
   },
   "outputs": [
    {
     "name": "stdout",
     "output_type": "stream",
     "text": [
      "env: ANYWIDGET_HMR=1\n",
      "env: ANYWIDGET_DEV=1\n"
     ]
    }
   ],
   "source": [
    "%load_ext autoreload\n",
    "%autoreload 2\n",
    "%env ANYWIDGET_HMR=1\n",
    "%env ANYWIDGET_DEV=1"
   ]
  },
  {
   "cell_type": "code",
   "execution_count": 5,
   "metadata": {},
   "outputs": [
    {
     "ename": "ValueError",
     "evalue": "too many values to unpack (expected 2)",
     "output_type": "error",
     "traceback": [
      "\u001b[0;31m---------------------------------------------------------------------------\u001b[0m",
      "\u001b[0;31mValueError\u001b[0m                                Traceback (most recent call last)",
      "Cell \u001b[0;32mIn[5], line 3\u001b[0m\n\u001b[1;32m      1\u001b[0m \u001b[38;5;28;01mimport\u001b[39;00m \u001b[38;5;21;01mnumpy\u001b[39;00m \u001b[38;5;28;01mas\u001b[39;00m \u001b[38;5;21;01mnp\u001b[39;00m\n\u001b[1;32m      2\u001b[0m twod \u001b[38;5;241m=\u001b[39m np\u001b[38;5;241m.\u001b[39marray([[\u001b[38;5;241m1\u001b[39m,\u001b[38;5;241m2\u001b[39m,\u001b[38;5;241m3\u001b[39m],[\u001b[38;5;241m3\u001b[39m,\u001b[38;5;241m4\u001b[39m,\u001b[38;5;241m5\u001b[39m]])\n\u001b[0;32m----> 3\u001b[0m \u001b[38;5;28;01mfor\u001b[39;00m row, col \u001b[38;5;129;01min\u001b[39;00m twod:\n\u001b[1;32m      4\u001b[0m   \u001b[38;5;28mprint\u001b[39m(row,col)\n",
      "\u001b[0;31mValueError\u001b[0m: too many values to unpack (expected 2)"
     ]
    }
   ],
   "source": [
    "import numpy as np\n",
    "\n",
    "twod = np.array([[1, 2, 3], [3, 4, 5]])\n",
    "for row, col in twod:\n",
    "  print(row, col)"
   ]
  },
  {
   "cell_type": "code",
   "execution_count": 1,
   "metadata": {
    "metadata": {}
   },
   "outputs": [],
   "source": [
    "import numpy as np\n",
    "from datasets import load_dataset\n",
    "\n",
    "from seq import Widget\n",
    "from seq.data import get_featured_ids, get_ids, get_tokenizer\n",
    "from seq.utils import cluster_sequences, mask_small_clusters, sort_sequences"
   ]
  },
  {
   "cell_type": "code",
   "execution_count": 2,
   "metadata": {},
   "outputs": [],
   "source": [
    "ds = load_dataset(\"neuralbioinfo/bacterial_promoters\")"
   ]
  },
  {
   "cell_type": "code",
   "execution_count": 3,
   "metadata": {},
   "outputs": [
    {
     "name": "stderr",
     "output_type": "stream",
     "text": [
      "100%|██████████| 22582/22582 [00:00<00:00, 39159.77it/s]\n"
     ]
    }
   ],
   "source": [
    "tokenizer = get_tokenizer(type=\"dna\", k=1)\n",
    "ids, tokens = get_ids(\n",
    "  ds[\"test_multispecies\"][\"segment\"], tokenizer, max_tokens=32\n",
    ")"
   ]
  },
  {
   "cell_type": "code",
   "execution_count": 6,
   "metadata": {},
   "outputs": [
    {
     "name": "stdout",
     "output_type": "stream",
     "text": [
      "{'[MASK]': 0, 'C': 1, 'G': 2, 'A': 3, 'T': 4}\n",
      "{0: '[MASK]', 1: 'C', 2: 'G', 3: 'A', 4: 'T'}\n"
     ]
    }
   ],
   "source": [
    "print(tokenizer._token_to_id)\n",
    "print(tokenizer._id_to_token)"
   ]
  },
  {
   "cell_type": "code",
   "execution_count": 5,
   "metadata": {},
   "outputs": [
    {
     "data": {
      "text/plain": [
       "[]"
      ]
     },
     "execution_count": 5,
     "metadata": {},
     "output_type": "execute_result"
    }
   ],
   "source": [
    "[0, 1, 2][1:1]"
   ]
  },
  {
   "cell_type": "code",
   "execution_count": 4,
   "metadata": {},
   "outputs": [],
   "source": [
    "featured_ids = get_featured_ids(ids, tokenizer, n_features=100, method=\"count\")\n",
    "labels = [{\"id\": i, \"label\": tokenizer.id_to_token(i)} for i in featured_ids]"
   ]
  },
  {
   "cell_type": "code",
   "execution_count": 37,
   "metadata": {},
   "outputs": [],
   "source": [
    "import numpy as np\n",
    "from collections import defaultdict\n",
    "from typing import List, Tuple, Dict, Set\n",
    "\n",
    "\n",
    "class Chunk:\n",
    "  def __init__(\n",
    "    self,\n",
    "    subsequence: np.ndarray,\n",
    "    start: int,\n",
    "    end: int,\n",
    "    sequence_indices: List[int],\n",
    "  ):\n",
    "    self.subsequence = subsequence\n",
    "    self.start = start\n",
    "    self.end = end\n",
    "    self.sequence_indices = sequence_indices\n",
    "    self.length = end - start\n",
    "\n",
    "  def __eq__(self, other):\n",
    "    return (\n",
    "      np.array_equal(self.subsequence, other.subsequence)\n",
    "      and self.start == other.start\n",
    "      and self.end == other.end\n",
    "      and self.sequence_indices == other.sequence_indices\n",
    "    )\n",
    "\n",
    "  def __hash__(self):\n",
    "    return hash(\n",
    "      (\n",
    "        self.start,\n",
    "        self.end,\n",
    "        tuple(self.subsequence),\n",
    "        tuple(self.sequence_indices),\n",
    "      )\n",
    "    )\n",
    "\n",
    "  def __repr__(self):\n",
    "    return f\"Chunk({self.subsequence}, {self.start}, {self.end}, #{len(self.sequence_indices)})\"\n",
    "\n",
    "\n",
    "class ChunkDB:\n",
    "  def __init__(\n",
    "    self,\n",
    "    sequences: np.ndarray,\n",
    "    threshold: int = 10,\n",
    "    max_chunk_len: int = 100000,\n",
    "  ):\n",
    "    self.sequences = sequences\n",
    "    self.threshold = threshold\n",
    "    self.max_chunk_len = max_chunk_len\n",
    "    self.chunks: Set[Chunk] = set()\n",
    "    self.start_index_map: Dict[int, List[Chunk]] = defaultdict(list)\n",
    "    self.end_index_map: Dict[int, List[Chunk]] = defaultdict(list)\n",
    "    self.start_end_index_map: Dict[Tuple[int, int], List[Chunk]] = defaultdict(\n",
    "      list\n",
    "    )\n",
    "    self.start_subsequence_map: Dict[Tuple[int, str], List[Chunk]] = (\n",
    "      defaultdict(list)\n",
    "    )\n",
    "    self.end_subsequence_map: Dict[Tuple[int, str], List[Chunk]] = defaultdict(\n",
    "      list\n",
    "    )\n",
    "\n",
    "    self._initialize_chunks()\n",
    "\n",
    "  def _initialize_chunks(self):\n",
    "    n_sequences, n_length = self.sequences.shape\n",
    "    used_positions = np.zeros((n_sequences, n_length), dtype=bool)\n",
    "    max_chunk_len = min(self.max_chunk_len, n_length)\n",
    "\n",
    "    for chunk_length in range(max_chunk_len, 0, -1):\n",
    "      for start in range(n_length - chunk_length + 1):\n",
    "        end = start + chunk_length\n",
    "\n",
    "        # Extract valid sequences\n",
    "        valid_sequences = ~used_positions[:, start:end].any(axis=1)\n",
    "        if valid_sequences.sum() < self.threshold:\n",
    "          continue\n",
    "\n",
    "        # Hash chunks using start and end indices\n",
    "        chunk_dict = defaultdict(list)\n",
    "        for seq_idx, sequence in enumerate(\n",
    "          self.sequences[valid_sequences, start:end]\n",
    "        ):\n",
    "          chunk_dict[tuple(sequence)].append(seq_idx)\n",
    "\n",
    "        # Process unique chunks\n",
    "        for subsequence, seq_indices in chunk_dict.items():\n",
    "          if len(seq_indices) >= self.threshold:\n",
    "            true_indices = np.arange(n_sequences)[valid_sequences][seq_indices]\n",
    "            new_chunk = Chunk(\n",
    "              np.array(subsequence), start, end, true_indices.tolist()\n",
    "            )\n",
    "            self._add_chunk(new_chunk)\n",
    "            used_positions[true_indices, start:end] = True\n",
    "\n",
    "  def _add_chunk(self, chunk: Chunk):\n",
    "    self.chunks.add(chunk)\n",
    "\n",
    "    self.start_index_map[chunk.start].append(chunk)\n",
    "    self.end_index_map[chunk.end].append(chunk)\n",
    "    self.start_end_index_map[(chunk.start, chunk.end)].append(chunk)\n",
    "\n",
    "    subsequence_str = \"\".join(map(str, chunk.subsequence))\n",
    "    for i in range(len(chunk.subsequence)):\n",
    "      self.start_subsequence_map[(chunk.start, subsequence_str[:i])].append(\n",
    "        chunk\n",
    "      )\n",
    "      self.end_subsequence_map[(chunk.end, subsequence_str[::-1][:i])].append(\n",
    "        chunk\n",
    "      )\n",
    "\n",
    "  def get_chunks_by_start(self, start: int) -> List[Chunk]:\n",
    "    return self.start_index_map[start]\n",
    "\n",
    "  def get_chunks_by_end(self, end: int) -> List[Chunk]:\n",
    "    return self.end_index_map[end]\n",
    "\n",
    "  def get_chunks_by_start_end(self, start: int, end: int) -> List[Chunk]:\n",
    "    return self.start_end_index_map[(start, end)]\n",
    "\n",
    "  def get_chunks_by_start_and_subsequence(\n",
    "    self, start: int, subsequence: np.ndarray\n",
    "  ) -> List[Chunk]:\n",
    "    subsequence_str = \"\".join(map(str, subsequence))\n",
    "    return self.subsequence_map[(start, subsequence_str)]\n",
    "\n",
    "  def get_chunks_by_end_and_subsequence(\n",
    "    self, end: int, subsequence: np.ndarray\n",
    "  ) -> List[Chunk]:\n",
    "    subsequence_str = \"\".join(map(str, subsequence[::-1]))\n",
    "    return self.subsequence_map[(end, subsequence_str)]\n",
    "\n",
    "\n",
    "n_sequences, n_length = 10_000, 32\n",
    "data = np.random.randint(0, 5, size=(n_sequences, n_length))\n",
    "chunk_db = ChunkDB(data)\n",
    "chunks_starting_at_1 = chunk_db.get_chunks_by_start(1)"
   ]
  },
  {
   "cell_type": "code",
   "execution_count": 39,
   "metadata": {},
   "outputs": [
    {
     "data": {
      "text/plain": [
       "[Chunk([2], 0, 1, #21),\n",
       " Chunk([1], 0, 1, #28),\n",
       " Chunk([3], 0, 1, #37),\n",
       " Chunk([4], 0, 1, #35),\n",
       " Chunk([0], 0, 1, #44)]"
      ]
     },
     "execution_count": 39,
     "metadata": {},
     "output_type": "execute_result"
    }
   ],
   "source": [
    "chunk_db.get_chunks_by_end(1)"
   ]
  },
  {
   "cell_type": "code",
   "execution_count": 29,
   "metadata": {},
   "outputs": [
    {
     "name": "stdout",
     "output_type": "stream",
     "text": [
      "18775\n"
     ]
    }
   ],
   "source": [
    "from collections import defaultdict\n",
    "from gettext import find\n",
    "from re import sub\n",
    "from typing import Dict, List, NamedTuple, Optional, Tuple\n",
    "\n",
    "import numpy as np\n",
    "\n",
    "\n",
    "class Chunk(NamedTuple):\n",
    "  subsequence: np.ndarray\n",
    "  start: int\n",
    "  end: int\n",
    "  seq_indices: List[int]\n",
    "\n",
    "  def __eq__(self, other):\n",
    "    if not isinstance(other, Chunk):\n",
    "      return False\n",
    "    return (\n",
    "      self.start == other.start\n",
    "      and self.end == other.end\n",
    "      and np.array_equal(self.subsequence, other.subsequence)\n",
    "    )\n",
    "\n",
    "  def __hash__(self):\n",
    "    return hash((self.start, self.end, tuple(self.subsequence)))\n",
    "\n",
    "\n",
    "def find_unique_chunks(\n",
    "  data: np.ndarray, threshold: int, max_chunk_len: int = 100000\n",
    "):\n",
    "  n_sequences, n_length = data.shape\n",
    "  chunks = dict()\n",
    "  used_positions = np.zeros((n_sequences, n_length), dtype=bool)\n",
    "  max_chunk_len = min(max_chunk_len, n_length)\n",
    "\n",
    "  for chunk_length in range(max_chunk_len, 0, -1):\n",
    "    for start in range(n_length - chunk_length + 1):\n",
    "      end = start + chunk_length\n",
    "\n",
    "      # Extract valid sequences\n",
    "      valid_sequences = ~used_positions[:, start:end].any(axis=1)\n",
    "      if valid_sequences.sum() < threshold:\n",
    "        continue\n",
    "\n",
    "      # Hash chunks using start and end indices\n",
    "      chunk_dict = defaultdict(list)\n",
    "      for seq_idx, sequence in enumerate(data[valid_sequences, start:end]):\n",
    "        chunk_dict[tuple(sequence)].append(seq_idx)\n",
    "      # Process unique chunks\n",
    "      for subsequence, seq_indices in chunk_dict.items():\n",
    "        if len(seq_indices) >= threshold:\n",
    "          true_indices = np.arange(n_sequences)[valid_sequences][seq_indices]\n",
    "          new_chunk = Chunk(\n",
    "            np.array(subsequence), start, end, true_indices.tolist()\n",
    "          )\n",
    "          chunks[new_chunk] = new_chunk\n",
    "          # chunks.add(new_chunk)\n",
    "          used_positions[true_indices, start:end] = True\n",
    "\n",
    "  return chunks\n",
    "\n",
    "\n",
    "# Example usage\n",
    "n_sequences, n_length = 100_000, 32\n",
    "data = np.random.randint(0, 5, size=(n_sequences, n_length))\n",
    "threshold = 10\n",
    "max_chunk_len = 5\n",
    "unique_chunks = find_unique_chunks(data, threshold, max_chunk_len)\n",
    "print(len(unique_chunks))\n",
    "\n",
    "\n",
    "def find_subchunks(chunk: Chunk, chunks: dict[Chunk, Chunk]):\n",
    "  length = chunk.end - chunk.start\n",
    "  subchunks: list[Chunk] = []\n",
    "  for i in range(length - 1, 0, -1):\n",
    "    for start in range(chunk.start, chunk.end - i + 1):\n",
    "      end = start + i\n",
    "      subsequence = chunk.subsequence[start - chunk.start : end - chunk.start]\n",
    "      subchunk = Chunk(subsequence, start, end, [])\n",
    "      if subchunk in chunks:\n",
    "        subchunks.append(chunks[subchunk])\n",
    "    if len(subchunks) > 1:\n",
    "      return sorted(subchunks, key=lambda x: len(x.seq_indices), reverse=True)\n",
    "  return None"
   ]
  },
  {
   "cell_type": "code",
   "execution_count": 18,
   "metadata": {},
   "outputs": [
    {
     "name": "stdout",
     "output_type": "stream",
     "text": [
      "18775\n",
      "18775\n",
      "Chunk(subsequence=array([3, 1, 0, 0, 3]), start=0, end=5, seq_indices=[100, 385, 2597, 4121, 7124, 10924, 12278, 15909, 18928, 19072, 20527, 20999, 21881, 30176, 30681, 33489, 34713, 35160, 38605, 40615, 42982, 43314, 45677, 46970, 48870, 49758, 54085, 61184, 62688, 63460, 66030, 74745, 83324, 87129, 94007, 98067, 98533])\n",
      "None\n"
     ]
    }
   ],
   "source": [
    "list_chunks = list(unique_chunks)\n",
    "list_chunks = sorted(\n",
    "  list_chunks, key=lambda x: len(x.subsequence), reverse=True\n",
    ")\n",
    "print(len(list_chunks))\n",
    "\n",
    "subchunks = [find_subchunks(chunk, unique_chunks) for chunk in list_chunks]\n",
    "subchunks = [x for x in subchunks]\n",
    "print(len(subchunks))\n",
    "i = 100\n",
    "\n",
    "print(list_chunks[i])\n",
    "print(subchunks[i])"
   ]
  },
  {
   "cell_type": "markdown",
   "metadata": {},
   "source": []
  },
  {
   "cell_type": "code",
   "execution_count": null,
   "metadata": {},
   "outputs": [],
   "source": [
    "import numpy as np\n",
    "from collections import defaultdict\n",
    "import networkx as nx\n",
    "\n",
    "\n",
    "def hamming_distance(s1, s2):\n",
    "  return sum(c1 != c2 for c1, c2 in zip(s1, s2))\n",
    "\n",
    "\n",
    "def find_unique_chunks(sequences, elem_index, thresholds, max_window):\n",
    "  n_sequences, n_length = sequences.shape\n",
    "  result = defaultdict(list)\n",
    "  processed_lengths = set()\n",
    "\n",
    "  start = elem_index\n",
    "  for window in range(max_window, 1, -1):\n",
    "    end = start + window\n",
    "    if end > n_length:\n",
    "      continue\n",
    "\n",
    "    if window in processed_lengths:\n",
    "      continue\n",
    "\n",
    "    chunks = [tuple(seq[start:end]) for seq in sequences]\n",
    "    unique_chunks, counts = np.unique(chunks, axis=0, return_counts=True)\n",
    "\n",
    "    for chunk, count in zip(unique_chunks, counts):\n",
    "      if count >= thresholds:\n",
    "        chunk_key = tuple(chunk)\n",
    "        seq_ids = [\n",
    "          i for i, seq_chunk in enumerate(chunks) if seq_chunk == chunk_key\n",
    "        ]\n",
    "        if chunk_key not in result:\n",
    "          result[chunk_key] = seq_ids\n",
    "          processed_lengths.add(window)\n",
    "\n",
    "  return result\n",
    "\n",
    "\n",
    "def sort_chunks_by_hamming_distance(chunks):\n",
    "  G = nx.Graph()\n",
    "  chunk_list = list(chunks.keys())\n",
    "\n",
    "  for i in range(len(chunk_list)):\n",
    "    for j in range(i + 1, len(chunk_list)):\n",
    "      distance = hamming_distance(chunk_list[i], chunk_list[j])\n",
    "      G.add_edge(i, j, weight=distance)\n",
    "\n",
    "  # Solve TSP\n",
    "  tsp = nx.approximation.christofides(G)\n",
    "\n",
    "  # Reorder chunks based on TSP solution\n",
    "  sorted_chunks = [(chunk_list[i], chunks[chunk_list[i]]) for i in tsp]\n",
    "\n",
    "  return sorted_chunks\n",
    "\n",
    "\n",
    "# 예시 사용\n",
    "sequences = np.random.randint(0, 4, (1000, 20))  # 100개의 시퀀스, 각 20개 요소\n",
    "elem_index = 5\n",
    "thresholds = 3\n",
    "max_window = 5\n",
    "\n",
    "unique_chunks = find_unique_chunks(\n",
    "  sequences, elem_index, thresholds, max_window\n",
    ")\n",
    "\n",
    "# 결과를 hamming distance에 따라 정렬\n",
    "sorted_chunks = sort_chunks_by_hamming_distance(unique_chunks)\n",
    "\n",
    "# 정렬된 결과 출력\n",
    "for chunk, seq_ids in sorted_chunks:\n",
    "  print(f\"Chunk {chunk}: Sequences {seq_ids}\")"
   ]
  },
  {
   "cell_type": "code",
   "execution_count": 19,
   "metadata": {},
   "outputs": [],
   "source": [
    "from collections import defaultdict\n",
    "\n",
    "import numpy as np\n",
    "\n",
    "\n",
    "def count_unique_chunks(sequences: np.ndarray, chunk_size: int = 1):\n",
    "  _, n_length = sequences.shape\n",
    "\n",
    "  result = []\n",
    "  for i in range(n_length - chunk_size + 1):\n",
    "    chunks = sequences[:, i : i + chunk_size]\n",
    "    unique_chunks = defaultdict(list)\n",
    "    for index, chunk in enumerate(chunks):\n",
    "      unique_chunks[tuple(chunk.tolist())].append(index)\n",
    "    result.append(unique_chunks)\n",
    "\n",
    "  return result\n",
    "\n",
    "\n",
    "n_chunks = [count_unique_chunks(ids, i) for i in range(1, 10)]"
   ]
  },
  {
   "cell_type": "code",
   "execution_count": 31,
   "metadata": {},
   "outputs": [
    {
     "name": "stdout",
     "output_type": "stream",
     "text": [
      "(2, 3, 4, 3, 4, 4, 4, 4, 3) [2391, 9009, 11110, 12278]\n",
      "(4, 4, 2, 1, 1, 2, 2, 3, 4) [3301, 11351, 14479, 18473]\n",
      "(2, 1, 2, 3, 4, 1, 2, 1, 4) [3628, 10271, 10468, 10718]\n",
      "(3, 4, 4, 4, 4, 3, 3, 3, 3) [5070, 9696, 9709, 11168]\n",
      "(1, 2, 1, 1, 4, 2, 1, 3, 2) [6173, 21647, 21740, 21934]\n",
      "(1, 4, 2, 2, 3, 4, 4, 4, 4) [8132, 8665, 10459, 12874]\n",
      "(1, 2, 2, 4, 1, 4, 1, 2, 1) [1649, 8881, 18176, 18637]\n",
      "(4, 4, 4, 3, 4, 4, 4, 4, 4) [2199, 5013, 12448, 19329]\n",
      "(4, 4, 4, 4, 3, 3, 3, 3, 3) [2644, 9696, 9709, 11168]\n",
      "(4, 4, 3, 4, 4, 4, 4, 4, 4) [5051, 10290, 15460, 20010]\n",
      "(4, 4, 4, 3, 3, 3, 3, 3, 4) [2221, 2644, 11168, 15570]\n",
      "(4, 4, 4, 1, 3, 3, 3, 3, 3) [2223, 11302, 13753, 19088]\n",
      "(4, 4, 4, 4, 2, 3, 3, 3, 3) [2272, 2301, 5545, 5556]\n",
      "(4, 1, 4, 2, 4, 3, 3, 3, 4) [2546, 4079, 10270, 13498]\n",
      "(1, 4, 1, 1, 2, 2, 1, 2, 4) [2830, 4403, 18432, 19833]\n",
      "(4, 4, 3, 3, 3, 3, 3, 3, 3) [5080, 5685, 5943, 11202, 12311]\n",
      "(1, 2, 3, 1, 2, 1, 2, 3, 4) [6492, 7444, 11580, 18858]\n",
      "(4, 2, 4, 3, 3, 3, 3, 3, 3) [9545, 9729, 9776, 11366]\n",
      "(4, 4, 4, 4, 4, 3, 4, 1, 3) [2140, 10711, 15327, 19090]\n",
      "(4, 2, 1, 4, 4, 3, 4, 3, 4) [2194, 4994, 11339, 15411]\n",
      "(4, 4, 3, 3, 3, 3, 3, 4, 1) [2644, 13215, 19130, 19249]\n",
      "(3, 3, 3, 3, 3, 3, 1, 3, 3) [3452, 11311, 12293, 19300]\n",
      "(4, 3, 3, 3, 3, 3, 3, 3, 2) [4183, 5685, 5943, 6984]\n",
      "(2, 3, 1, 2, 1, 2, 3, 4, 1) [6492, 7444, 11580, 18858]\n",
      "(3, 3, 3, 3, 3, 3, 3, 2, 4) [4183, 5685, 6979, 6984]\n",
      "(2, 3, 3, 2, 1, 2, 2, 1, 3) [12175, 13197, 14706, 15210]\n",
      "(1, 2, 4, 2, 2, 1, 2, 3, 4) [886, 12241, 13803, 17136]\n",
      "(1, 1, 4, 2, 2, 3, 2, 3, 3) [1022, 1408, 4050, 6097]\n",
      "(1, 1, 2, 1, 1, 2, 1, 2, 1) [1385, 1393, 18186, 18440]\n",
      "(3, 4, 1, 4, 4, 4, 1, 4, 2) [2106, 3705, 8473, 21330]\n",
      "(4, 3, 3, 3, 3, 3, 4, 4, 4) [3092, 5657, 9376, 19071]\n",
      "(2, 2, 2, 1, 3, 1, 1, 4, 2) [3373, 8551, 14106, 20933]\n",
      "(3, 1, 4, 2, 4, 4, 4, 4, 4) [5196, 5293, 11167, 17017]\n",
      "(3, 1, 3, 4, 4, 4, 4, 1, 3) [10350, 11136, 12392, 20428]\n",
      "(4, 4, 4, 3, 4, 4, 3, 3, 3) [13281, 13736, 20025, 22183]\n",
      "(1, 2, 3, 4, 1, 2, 2, 1, 1) [880, 7957, 18411, 18606]\n",
      "(3, 3, 3, 3, 4, 3, 3, 4, 4) [1005, 12434, 12452, 12647]\n",
      "(4, 4, 4, 4, 4, 2, 4, 1, 4) [2639, 9533, 10290, 17331]\n",
      "(4, 4, 4, 3, 3, 3, 3, 3, 3) [2695, 9635, 13839, 22208]\n",
      "(4, 4, 4, 4, 3, 4, 4, 4, 4) [11009, 12372, 17714, 18144]\n",
      "(4, 4, 3, 4, 4, 3, 3, 3, 3) [11066, 13281, 15348, 15378]\n",
      "(2, 1, 1, 2, 3, 1, 2, 1, 2) [429, 3034, 6981, 21146]\n",
      "(3, 3, 3, 4, 4, 4, 4, 1, 4) [2185, 5727, 8992, 10270, 13726]\n",
      "(3, 3, 3, 3, 3, 4, 3, 3, 3) [2201, 2307, 5042, 11133, 20320]\n",
      "(3, 1, 3, 3, 2, 3, 3, 3, 4) [2206, 6224, 10869, 19134]\n",
      "(1, 2, 2, 1, 2, 2, 1, 2, 2) [5768, 11927, 18824, 20304]\n",
      "(2, 1, 4, 3, 3, 3, 3, 3, 3) [12401, 12428, 13203, 15575]\n",
      "(4, 3, 4, 4, 3, 3, 3, 3, 4) [13281, 15348, 15378, 15401]\n",
      "(1, 2, 2, 1, 1, 2, 1, 2, 1) [102, 1493, 6682, 18888]\n",
      "(1, 2, 2, 1, 2, 2, 1, 2, 3) [1026, 10727, 12903, 20872]\n",
      "(4, 1, 2, 4, 2, 1, 1, 1, 2) [1294, 7379, 15150, 18204]\n",
      "(2, 2, 1, 2, 2, 1, 2, 2, 1) [1298, 5768, 11927, 18824]\n",
      "(3, 3, 3, 3, 4, 4, 4, 3, 3) [2165, 2256, 5716, 10912, 19132]\n",
      "(3, 4, 4, 4, 4, 4, 2, 3, 4) [2282, 5590, 19170, 21526]\n",
      "(4, 4, 4, 4, 1, 3, 3, 3, 3) [2286, 10544, 11160, 12392]\n",
      "(1, 1, 2, 2, 1, 1, 2, 2, 1) [5766, 8853, 18233, 18429]\n",
      "(1, 2, 2, 1, 2, 1, 2, 1, 2) [8293, 8465, 12174, 18700]\n",
      "(4, 3, 3, 3, 3, 3, 3, 3, 3) [9737, 12353, 13839, 15356]\n",
      "(2, 1, 2, 2, 1, 2, 2, 1, 2) [1298, 5768, 18579, 18824, 18891]\n",
      "(3, 3, 3, 4, 4, 4, 3, 3, 3) [2165, 2256, 5716, 19132]\n",
      "(4, 4, 4, 3, 4, 3, 3, 4, 4) [5567, 8291, 11034, 12304]\n",
      "(1, 2, 2, 1, 1, 2, 2, 1, 2) [5766, 16648, 18233, 18429]\n",
      "(1, 2, 1, 2, 2, 1, 2, 2, 1) [6518, 12030, 21980, 21998]\n",
      "(2, 2, 1, 2, 4, 1, 2, 3, 1) [7837, 11736, 15752, 18476]\n",
      "(3, 3, 4, 1, 1, 1, 2, 3, 4) [9423, 9932, 14696, 20555]\n",
      "(2, 4, 4, 2, 1, 3, 2, 1, 3) [10143, 10978, 12856, 20979]\n",
      "(2, 1, 1, 4, 1, 2, 3, 4, 1) [151, 751, 8393, 14962]\n",
      "(1, 2, 2, 1, 2, 2, 1, 2, 1) [1298, 6085, 18579, 18824]\n",
      "(3, 3, 3, 3, 3, 3, 3, 3, 4) [3390, 9711, 13203, 15356]\n",
      "(2, 2, 1, 2, 3, 4, 1, 2, 1) [3573, 10582, 10595, 10843]\n",
      "(4, 4, 3, 4, 3, 3, 4, 4, 4) [5567, 8291, 11034, 12304]\n",
      "(4, 4, 4, 2, 2, 2, 2, 1, 4) [5771, 12723, 16896, 19514]\n",
      "(1, 4, 1, 2, 4, 1, 2, 1, 1) [6072, 7228, 18205, 18449, 21835]\n",
      "(3, 3, 3, 1, 2, 1, 1, 2, 1) [304, 8966, 9235, 20087]\n",
      "(3, 4, 4, 4, 3, 3, 3, 3, 3) [2165, 2256, 2310, 2719, 9680]\n",
      "(1, 2, 4, 1, 2, 1, 2, 1, 3) [3094, 6006, 18444, 21532]\n",
      "(2, 1, 2, 1, 1, 4, 2, 1, 4) [5135, 7849, 11913, 12914]\n",
      "(1, 2, 2, 1, 2, 2, 1, 1, 2) [6518, 12030, 12183, 21525]\n",
      "(2, 2, 1, 2, 2, 1, 2, 2, 1) [6683, 18891, 19829, 21227]\n",
      "(2, 2, 1, 2, 1, 1, 1, 1, 2) [8904, 11725, 12233, 16937]\n",
      "(1, 2, 2, 1, 2, 1, 1, 2, 2) [209, 6110, 6344, 15708, 18278]\n",
      "(2, 2, 1, 2, 2, 4, 2, 1, 2) [1101, 2086, 11636, 21523]\n",
      "(4, 3, 3, 3, 3, 3, 4, 2, 3) [2065, 10805, 12433, 15465]\n",
      "(1, 2, 1, 4, 2, 1, 1, 3, 1) [3124, 13928, 18418, 18479]\n",
      "(4, 4, 3, 3, 3, 3, 3, 3, 4) [4159, 5226, 5657, 15360, 15638]\n",
      "(2, 1, 1, 2, 4, 1, 2, 1, 1) [4558, 8122, 19906, 21662]\n",
      "(1, 2, 4, 1, 2, 2, 1, 2, 1) [8696, 12049, 20805, 22019]\n",
      "(2, 1, 2, 2, 1, 2, 1, 4, 2) [910, 8333, 12102, 12176]\n",
      "(2, 1, 2, 2, 4, 2, 1, 2, 1) [1101, 2086, 4002, 15005]\n",
      "(1, 3, 3, 3, 4, 3, 3, 1, 3) [5700, 7764, 15379, 21019]\n",
      "(1, 2, 4, 4, 1, 2, 2, 1, 1) [6023, 6607, 18548, 19880]\n",
      "(1, 2, 2, 1, 2, 3, 4, 1, 2) [7922, 14773, 18762, 20515]\n",
      "(1, 2, 2, 1, 2, 2, 1, 3, 3) [12150, 18428, 19829, 22520]\n",
      "(3, 2, 1, 2, 1, 3, 2, 1, 2) [15, 52, 15716, 21020]\n",
      "(4, 1, 2, 1, 2, 2, 1, 2, 2) [534, 750, 8061, 22322]\n",
      "(2, 2, 1, 2, 1, 4, 2, 3, 3) [1074, 8185, 18999, 21117]\n",
      "(2, 1, 2, 2, 1, 3, 2, 2, 1) [1263, 6207, 15712, 18931]\n",
      "(3, 2, 2, 1, 2, 3, 4, 1, 2) [2037, 10704, 10835, 21467]\n",
      "(1, 2, 2, 4, 2, 1, 2, 1, 4) [2086, 5731, 9177, 15005]\n",
      "(4, 4, 4, 3, 3, 3, 3, 3, 3) [2217, 2255, 5017, 12321]\n",
      "(4, 4, 4, 4, 2, 4, 4, 4, 4) [2281, 4986, 12340, 13283]\n",
      "(3, 3, 2, 1, 3, 3, 3, 3, 2) [2472, 9774, 12918, 13208]\n",
      "(2, 3, 3, 3, 3, 1, 1, 3, 3) [3321, 3777, 8938, 10097]\n",
      "(1, 2, 1, 2, 2, 1, 3, 2, 1) [4612, 7631, 9061, 14388]\n",
      "(4, 4, 4, 2, 3, 3, 3, 3, 3) [5352, 9848, 19249, 20536]\n",
      "(3, 4, 4, 4, 4, 4, 4, 2, 4) [5470, 6853, 10065, 13218]\n",
      "(4, 1, 2, 3, 4, 1, 2, 3, 3) [6156, 8768, 14742, 18828]\n",
      "(3, 4, 3, 4, 4, 4, 4, 4, 3) [9555, 11239, 11321, 19528]\n",
      "(1, 2, 1, 2, 2, 1, 1, 2, 1) [1393, 3795, 6548, 12267, 22546]\n",
      "(2, 2, 1, 2, 3, 4, 1, 2, 1) [2037, 10096, 10704, 10777]\n",
      "(4, 4, 4, 4, 4, 1, 3, 4, 4) [2174, 4971, 6762, 9767]\n",
      "(3, 3, 3, 3, 4, 4, 4, 1, 3) [6525, 9687, 14494, 19074]\n",
      "(2, 1, 2, 1, 3, 2, 1, 2, 4) [7026, 15716, 21020, 21875]\n",
      "(1, 4, 4, 4, 2, 1, 1, 2, 1) [244, 419, 14253, 16249]\n",
      "(1, 2, 2, 3, 3, 3, 2, 3, 1) [651, 7522, 13108, 16026]\n",
      "(4, 1, 2, 2, 1, 2, 1, 1, 2) [1221, 6010, 18883, 20767]\n",
      "(3, 4, 4, 4, 4, 4, 4, 3, 3) [2199, 2941, 12479, 19232, 20015]\n",
      "(1, 2, 2, 1, 2, 1, 2, 2, 1) [5810, 18767, 18808, 19044]\n",
      "(2, 1, 1, 2, 2, 1, 2, 1, 2) [6287, 6518, 18278, 21835]\n",
      "(2, 2, 1, 2, 3, 4, 1, 2, 1) [7987, 10268, 11002, 21586]\n",
      "(3, 3, 3, 3, 3, 3, 4, 3, 3) [9677, 12326, 13838, 15511]\n",
      "(2, 1, 2, 3, 4, 1, 2, 1, 4) [10096, 10421, 10777, 20384, 20410]\n",
      "(2, 4, 2, 1, 1, 2, 2, 1, 2) [14999, 16995, 21778, 22100]\n",
      "(1, 2, 2, 1, 2, 1, 1, 2, 1) [1221, 6373, 18883, 20767]\n",
      "(3, 3, 3, 3, 3, 3, 4, 3, 4) [2217, 5017, 5177, 19313]\n",
      "(3, 3, 3, 3, 3, 1, 3, 3, 3) [2827, 3241, 11015, 15364]\n",
      "(4, 4, 4, 4, 4, 4, 2, 1, 3) [3298, 4939, 16713, 19215]\n",
      "(4, 4, 4, 4, 4, 3, 4, 4, 4) [5015, 7033, 9422, 9555]\n",
      "(3, 3, 3, 3, 3, 4, 3, 3, 3) [9677, 12326, 13838, 15511]\n",
      "(4, 4, 3, 3, 3, 4, 3, 3, 3) [2147, 9242, 9456, 12318, 12529]\n",
      "(3, 3, 3, 3, 3, 4, 3, 4, 4) [2217, 5017, 5177, 19313]\n",
      "(3, 3, 3, 3, 2, 1, 3, 3, 2) [3734, 5390, 5438, 6845]\n",
      "(2, 1, 1, 2, 1, 1, 2, 1, 2) [6065, 6111, 6604, 21662]\n",
      "(1, 2, 3, 4, 1, 2, 1, 1, 2) [7987, 10148, 18648, 21586]\n",
      "(2, 2, 1, 2, 1, 2, 1, 2, 1) [11436, 11952, 12274, 15714]\n",
      "(2, 2, 1, 1, 2, 1, 2, 1, 3) [18849, 21606, 22546, 22566]\n",
      "(3, 3, 3, 3, 3, 3, 1, 4, 4) [447, 2671, 5394, 9371]\n",
      "(4, 3, 3, 3, 4, 3, 3, 3, 3) [2147, 9242, 12318, 12529, 19073]\n",
      "(3, 3, 4, 4, 4, 3, 4, 3, 4) [2156, 5020, 9738, 12282]\n",
      "(3, 3, 2, 1, 2, 3, 4, 1, 2) [3052, 10715, 11468, 20538]\n",
      "(2, 2, 1, 2, 4, 2, 2, 3, 3) [5951, 6505, 10007, 20679]\n",
      "(2, 1, 2, 1, 1, 2, 1, 2, 1) [6373, 9111, 18883, 21427]\n",
      "(4, 2, 2, 1, 4, 1, 4, 4, 2) [8857, 9890, 10049, 10954]\n",
      "(4, 1, 3, 1, 3, 3, 3, 2, 1) [1451, 1788, 1809, 1814]\n",
      "(3, 3, 1, 4, 3, 4, 4, 2, 3) [1899, 3711, 5216, 7542, 9851]\n",
      "(4, 1, 2, 1, 1, 2, 2, 1, 2) [7795, 11661, 14900, 18506]\n",
      "(4, 4, 2, 3, 3, 4, 4, 2, 4) [13349, 14380, 16298, 16626]\n",
      "(2, 1, 2, 2, 4, 4, 2, 1, 2) [13371, 14242, 15727, 20508]\n",
      "(3, 4, 2, 4, 4, 2, 3, 1, 3) [578, 3897, 5124, 5202, 8685]\n",
      "(1, 2, 1, 1, 2, 1, 2, 4, 1) [702, 1030, 15263, 21526]\n",
      "(1, 3, 1, 3, 3, 3, 2, 1, 1) [1451, 1788, 1809, 1814]\n",
      "(4, 3, 3, 3, 3, 3, 1, 4, 4) [2197, 4996, 9661, 9709]\n",
      "(2, 1, 1, 1, 4, 4, 2, 3, 3) [4526, 4569, 5597, 7702]\n",
      "(4, 1, 2, 2, 1, 2, 2, 1, 2) [4692, 8109, 18674, 21161]\n",
      "(2, 1, 1, 1, 2, 2, 1, 2, 2) [4917, 6286, 8910, 14766]\n",
      "(1, 2, 2, 4, 4, 2, 1, 2, 1) [5944, 8670, 13371, 14242]\n",
      "(1, 4, 2, 1, 2, 1, 1, 2, 2) [7719, 12080, 12112, 18154]\n",
      "(2, 2, 1, 4, 4, 2, 1, 2, 4) [1325, 6028, 10960, 21419]\n",
      "(3, 1, 3, 3, 3, 2, 1, 1, 2) [1451, 1788, 1809, 1814]\n",
      "(2, 2, 1, 2, 2, 1, 1, 2, 1) [1485, 8275, 19048, 20902]\n",
      "(3, 3, 3, 3, 3, 1, 4, 4, 4) [2197, 4996, 9661, 9709, 19219]\n",
      "(2, 1, 2, 3, 4, 1, 2, 1, 4) [3560, 10076, 10280, 10870]\n",
      "(1, 1, 2, 3, 1, 1, 2, 2, 1) [4249, 6150, 6462, 21965]\n",
      "(3, 1, 3, 1, 3, 3, 3, 3, 3) [4747, 6746, 9997, 11778]\n",
      "(2, 1, 2, 1, 2, 1, 1, 2, 1) [5889, 6045, 6092, 6370]\n",
      "(2, 2, 1, 2, 3, 4, 1, 2, 1) [7423, 9963, 10000, 20182]\n",
      "(1, 2, 2, 1, 2, 2, 1, 2, 2) [8109, 18674, 19962, 21161]\n",
      "(2, 1, 1, 2, 3, 1, 2, 1, 1) [8157, 12241, 19371, 21557]\n",
      "(4, 4, 2, 3, 1, 2, 1, 2, 1) [614, 739, 1021, 16011]\n",
      "(2, 3, 1, 2, 1, 1, 2, 1, 1) [632, 5977, 17516, 18465]\n",
      "(2, 1, 2, 2, 1, 1, 2, 1, 2) [1485, 8275, 19048, 20902]\n",
      "(3, 3, 3, 3, 1, 4, 4, 4, 4) [2197, 4996, 9709, 19219]\n",
      "(2, 3, 3, 3, 1, 3, 4, 4, 3) [2580, 3290, 9523, 11213]\n",
      "(2, 2, 1, 2, 3, 4, 1, 2, 1) [3575, 3670, 11005, 20466]\n",
      "(2, 3, 4, 2, 3, 1, 3, 3, 3) [3718, 7027, 10827, 11798]\n",
      "(2, 1, 2, 2, 1, 2, 1, 2, 1) [5902, 11982, 21896, 21986]\n",
      "(2, 2, 3, 3, 2, 3, 4, 4, 4) [6769, 9967, 13455, 13819]\n",
      "(1, 2, 3, 4, 1, 2, 1, 1, 4) [7942, 10250, 10542, 20461]\n"
     ]
    }
   ],
   "source": [
    "for window in n_chunks[8]:\n",
    "  for k, v in window.items():\n",
    "    if len(v) > 3:\n",
    "      print(k, v)"
   ]
  },
  {
   "cell_type": "code",
   "execution_count": 23,
   "metadata": {
    "metadata": {}
   },
   "outputs": [
    {
     "name": "stdout",
     "output_type": "stream",
     "text": [
      "Sequences:  (22506, 32)\n",
      "Rects:  101339\n"
     ]
    },
    {
     "data": {
      "application/vnd.jupyter.widget-view+json": {
       "model_id": "da3f61a705d341cda91ba649193370fd",
       "version_major": 2,
       "version_minor": 1
      },
      "text/plain": [
       "Widget(height=400, labels=[{'id': 53, 'label': 'GCG'}, {'id': 44, 'label': 'TTT'}, {'id': 64, 'label': 'AAA'},…"
      ]
     },
     "execution_count": 23,
     "metadata": {},
     "output_type": "execute_result"
    }
   ],
   "source": [
    "w = Widget(\n",
    "  sequences=ids,\n",
    "  labels=labels[0:10],\n",
    "  width=800,\n",
    "  height=400,\n",
    "  grid=False,\n",
    ")\n",
    "init_seq = w.sequences\n",
    "w"
   ]
  },
  {
   "cell_type": "code",
   "execution_count": 24,
   "metadata": {},
   "outputs": [
    {
     "name": "stdout",
     "output_type": "stream",
     "text": [
      "Sequences:  (22506, 32)\n",
      "Rects:  101339\n"
     ]
    }
   ],
   "source": [
    "w.update_sequences(init_seq)\n",
    "w.grid = False"
   ]
  },
  {
   "cell_type": "code",
   "execution_count": 25,
   "metadata": {},
   "outputs": [
    {
     "name": "stdout",
     "output_type": "stream",
     "text": [
      "Sequences:  (22506, 32)\n",
      "Rects:  69844\n"
     ]
    }
   ],
   "source": [
    "clustered_sequence = cluster_sequences(init_seq)\n",
    "w.update_sequences(clustered_sequence)"
   ]
  },
  {
   "cell_type": "code",
   "execution_count": 27,
   "metadata": {},
   "outputs": [
    {
     "name": "stdout",
     "output_type": "stream",
     "text": [
      "Sequences:  (22043, 32)\n",
      "Rects:  2094\n"
     ]
    }
   ],
   "source": [
    "masked_sequences = mask_small_clusters(clustered_sequence, min_cluster_size=5)\n",
    "w.grid = False\n",
    "w.update_sequences(masked_sequences)"
   ]
  },
  {
   "cell_type": "code",
   "execution_count": 18,
   "metadata": {},
   "outputs": [],
   "source": [
    "# sorted_sequences = sort_sequences(w.sequences)\n",
    "# w.update_sequences(sorted_sequences)"
   ]
  }
 ],
 "metadata": {
  "kernelspec": {
   "display_name": "Python 3 (ipykernel)",
   "language": "python",
   "name": "python3"
  },
  "language_info": {
   "codemirror_mode": {
    "name": "ipython",
    "version": 3
   },
   "file_extension": ".py",
   "mimetype": "text/x-python",
   "name": "python",
   "nbconvert_exporter": "python",
   "pygments_lexer": "ipython3",
   "version": "3.11.5"
  }
 },
 "nbformat": 4,
 "nbformat_minor": 4
}
