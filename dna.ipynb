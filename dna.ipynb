{
 "cells": [
  {
   "cell_type": "code",
   "execution_count": 1,
   "metadata": {
    "metadata": {}
   },
   "outputs": [
    {
     "name": "stdout",
     "output_type": "stream",
     "text": [
      "env: ANYWIDGET_HMR=1\n",
      "env: ANYWIDGET_DEV=1\n"
     ]
    }
   ],
   "source": [
    "%load_ext autoreload\n",
    "%autoreload 2\n",
    "%env ANYWIDGET_HMR=1\n",
    "%env ANYWIDGET_DEV=1"
   ]
  },
  {
   "cell_type": "code",
   "execution_count": 2,
   "metadata": {
    "metadata": {}
   },
   "outputs": [],
   "source": [
    "import numpy as np\n",
    "from datasets import load_dataset\n",
    "\n",
    "from seq import Widget\n",
    "from seq.data import get_featured_ids, get_ids, get_tokenizer\n",
    "from seq.utils import (\n",
    "  cluster_sequences,\n",
    "  mask_small_clusters,\n",
    ")"
   ]
  },
  {
   "cell_type": "code",
   "execution_count": 3,
   "metadata": {},
   "outputs": [],
   "source": [
    "ds = load_dataset(\"neuralbioinfo/bacterial_promoters\")"
   ]
  },
  {
   "cell_type": "code",
   "execution_count": 4,
   "metadata": {},
   "outputs": [
    {
     "name": "stderr",
     "output_type": "stream",
     "text": [
      "100%|██████████| 22582/22582 [00:00<00:00, 58091.87it/s]\n"
     ]
    }
   ],
   "source": [
    "tokenizer = get_tokenizer(type=\"dna\", k_mer=3)\n",
    "ids, tokens = get_ids(\n",
    "  ds[\"test_multispecies\"][\"segment\"], tokenizer, max_tokens=32\n",
    ")"
   ]
  },
  {
   "cell_type": "code",
   "execution_count": 5,
   "metadata": {},
   "outputs": [],
   "source": [
    "featured_ids = get_featured_ids(ids, tokenizer, n_features=100, method=\"count\")\n",
    "labels = [{\"id\": i, \"label\": tokenizer.id_to_token(i)} for i in featured_ids]"
   ]
  },
  {
   "cell_type": "code",
   "execution_count": 6,
   "metadata": {
    "metadata": {}
   },
   "outputs": [
    {
     "name": "stdout",
     "output_type": "stream",
     "text": [
      "Sequences:  (22506, 32)\n",
      "Rects:  101339\n"
     ]
    },
    {
     "data": {
      "application/vnd.jupyter.widget-view+json": {
       "model_id": "9b2012cb94c14154afe257fbccfc64d6",
       "version_major": 2,
       "version_minor": 1
      },
      "text/plain": [
       "Widget(labels=[{'id': 53, 'label': 'GCG'}, {'id': 44, 'label': 'TTT'}, {'id': 64, 'label': 'AAA'}, {'id': 24, …"
      ]
     },
     "execution_count": 6,
     "metadata": {},
     "output_type": "execute_result"
    }
   ],
   "source": [
    "w = Widget(\n",
    "  sequences=ids,\n",
    "  labels=labels[0:10],\n",
    "  width=800,\n",
    "  height=600,\n",
    "  grid=False,\n",
    ")\n",
    "init_seq = w.sequences\n",
    "w"
   ]
  },
  {
   "cell_type": "code",
   "execution_count": 7,
   "metadata": {},
   "outputs": [
    {
     "name": "stdout",
     "output_type": "stream",
     "text": [
      "Sequences:  (22506, 32)\n",
      "Rects:  101339\n"
     ]
    }
   ],
   "source": [
    "w.update_sequences(init_seq)"
   ]
  },
  {
   "cell_type": "code",
   "execution_count": 8,
   "metadata": {},
   "outputs": [
    {
     "name": "stdout",
     "output_type": "stream",
     "text": [
      "Sequences:  (22506, 32)\n",
      "Rects:  87490\n"
     ]
    }
   ],
   "source": [
    "clustered_sequence = cluster_sequences(init_seq)\n",
    "w.update_sequences(clustered_sequence)"
   ]
  },
  {
   "cell_type": "code",
   "execution_count": 13,
   "metadata": {},
   "outputs": [
    {
     "name": "stdout",
     "output_type": "stream",
     "text": [
      "Sequences:  (5386, 32)\n",
      "Rects:  347\n"
     ]
    }
   ],
   "source": [
    "masked_sequences = mask_small_clusters(clustered_sequence, min_cluster_size=6)\n",
    "w.grid = False\n",
    "w.update_sequences(masked_sequences)"
   ]
  },
  {
   "cell_type": "code",
   "execution_count": 15,
   "metadata": {},
   "outputs": [
    {
     "name": "stdout",
     "output_type": "stream",
     "text": [
      "Sequences:  (326, 32)\n",
      "Rects:  25\n"
     ]
    }
   ],
   "source": [
    "w.update_sequences(masked_sequences[:3000])\n",
    "w.grid = True"
   ]
  },
  {
   "cell_type": "code",
   "execution_count": null,
   "metadata": {},
   "outputs": [],
   "source": []
  }
 ],
 "metadata": {
  "kernelspec": {
   "display_name": "Python 3 (ipykernel)",
   "language": "python",
   "name": "python3"
  },
  "language_info": {
   "codemirror_mode": {
    "name": "ipython",
    "version": 3
   },
   "file_extension": ".py",
   "mimetype": "text/x-python",
   "name": "python",
   "nbconvert_exporter": "python",
   "pygments_lexer": "ipython3",
   "version": "3.12.2"
  }
 },
 "nbformat": 4,
 "nbformat_minor": 4
}
